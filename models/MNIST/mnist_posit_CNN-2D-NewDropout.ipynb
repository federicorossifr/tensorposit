{
 "cells": [
  {
   "attachments": {},
   "cell_type": "markdown",
   "metadata": {},
   "source": [
    "## Download and prepare the dataset"
   ]
  },
  {
   "attachments": {},
   "cell_type": "markdown",
   "metadata": {},
   "source": [
    "Set up the posits as default"
   ]
  },
  {
   "cell_type": "code",
   "execution_count": 44,
   "metadata": {},
   "outputs": [
    {
     "data": {
      "text/plain": [
       "'posit160'"
      ]
     },
     "execution_count": 44,
     "metadata": {},
     "output_type": "execute_result"
    }
   ],
   "source": [
    "import tensorflow.python.keras as k\n",
    "k.backend.set_floatx(\"posit160\")\n",
    "k.backend.floatx()\n"
   ]
  },
  {
   "cell_type": "code",
   "execution_count": 47,
   "metadata": {},
   "outputs": [
    {
     "name": "stdout",
     "output_type": "stream",
     "text": [
      "The type of the training and test set samples is a <class 'numpy.ndarray'> of <class 'numpy.float32'>\n"
     ]
    }
   ],
   "source": [
    "from tensorflow.python.keras.datasets import mnist\n",
    "from tensorflow.python.keras.utils.np_utils import to_categorical\n",
    "from tensorflow import random\n",
    "\n",
    "random.set_seed(1024)\n",
    "\n",
    "def random_normal_init(shape, dtype=None):\n",
    "    return random.normal(shape, dtype=\"posit160\")\n",
    "\n",
    "(train_images, train_labels), (test_images, test_labels) = mnist.load_data()\n",
    "\n",
    "train_images = train_images[:20000].reshape((20000, 28, 28, 1))\n",
    "train_images = train_images.astype('float32') / 255\n",
    "\n",
    "test_images = test_images.reshape((10000, 28, 28, 1))\n",
    "test_images = test_images.astype('float32') / 255\n",
    "\n",
    "train_labels = to_categorical(train_labels[:20000])\n",
    "test_labels = to_categorical(test_labels)\n",
    "\n",
    "print(\"The type of the training and test set samples is a {0} of {1}\".format(type(train_images), type(train_images[0][0][0][0])))"
   ]
  },
  {
   "cell_type": "code",
   "execution_count": 48,
   "metadata": {},
   "outputs": [
    {
     "data": {
      "text/plain": [
       "(20000, 28, 28, 1)"
      ]
     },
     "execution_count": 48,
     "metadata": {},
     "output_type": "execute_result"
    }
   ],
   "source": [
    "train_images.shape"
   ]
  },
  {
   "attachments": {},
   "cell_type": "markdown",
   "metadata": {},
   "source": [
    "## Download and prepare the dataset"
   ]
  },
  {
   "cell_type": "code",
   "execution_count": 49,
   "metadata": {},
   "outputs": [],
   "source": [
    "from tensorflow.python.keras import layers\n",
    "from tensorflow.python.keras import models\n",
    "import dropout\n",
    "\n",
    "#model = models.Sequential()\n",
    "#model.add(layers.Conv2D(32, (3, 3), activation='relu', input_shape=(28, 28, 1)))\n",
    "#model.add(layers.MaxPooling2D((2, 2)))\n",
    "#model.add(layers.Conv2D(64, (3, 3), activation='relu'))\n",
    "#model.add(layers.MaxPooling2D((2, 2)))\n",
    "#model.add(layers.Conv2D(128, (3, 3), activation='relu'))\n",
    "#model.add(layers.Flatten())\n",
    "#model.add(layers.Dense(10, activation='softmax'))\n",
    "\n",
    "# model = models.Sequential()\n",
    "# model.add(layers.Conv2D(32, (3, 3), activation='tanh', input_shape=(28, 28, 1), kernel_initializer=random_normal_init))\n",
    "# model.add(layers.MaxPooling2D((2, 2),input_shape=(28, 28, 1)))\n",
    "# model.add(layers.Flatten(input_shape=(28, 28, 1)))\n",
    "# model.add(layers.Dense(128, activation=\"tanh\", kernel_initializer=random_normal_init))\n",
    "# model.add(layers.Dense(10, activation='softmax',kernel_initializer=random_normal_init))\n",
    "\n",
    "# model = models.Sequential()\n",
    "# model.add(layers.Conv2D(32, (3, 3), activation='tanh', input_shape=(28, 28, 1)))\n",
    "# model.add(layers.MaxPooling2D((2, 2),input_shape=(28, 28, 1)))\n",
    "# model.add(layers.Flatten(input_shape=(28, 28, 1)))\n",
    "# model.add(layers.Dense(128, activation=\"tanh\"))\n",
    "# model.add(layers.Dense(10, activation='softmax'))\n",
    "\n",
    "model = models.Sequential()\n",
    "model.add(layers.Conv2D(32, (3, 3), activation='relu', input_shape=(28, 28, 1), kernel_initializer=random_normal_init))\n",
    "model.add(layers.MaxPooling2D((2, 2)))\n",
    "model.add(layers.Conv2D(32, (3, 3), activation='relu', kernel_initializer=random_normal_init))\n",
    "model.add(layers.MaxPooling2D((2, 2)))\n",
    "model.add(dropout.Dropout(0.2))\n",
    "model.add(layers.Conv2D(32, (3, 3), activation='relu', kernel_initializer=random_normal_init))\n",
    "model.add(layers.MaxPooling2D((2, 2)))\n",
    "model.add(layers.Flatten())\n",
    "model.add(layers.Dense(10, activation='softmax',kernel_initializer=random_normal_init))\n"
   ]
  },
  {
   "attachments": {},
   "cell_type": "markdown",
   "metadata": {},
   "source": [
    "Let's display the architecture of our convnet so far:"
   ]
  },
  {
   "cell_type": "code",
   "execution_count": 50,
   "metadata": {},
   "outputs": [
    {
     "name": "stdout",
     "output_type": "stream",
     "text": [
      "Model: \"sequential_7\"\n",
      "_________________________________________________________________\n",
      "Layer (type)                 Output Shape              Param #   \n",
      "=================================================================\n",
      "conv2d_17 (Conv2D)           (None, 26, 26, 32)        320       \n",
      "_________________________________________________________________\n",
      "max_pooling2d_15 (MaxPooling (None, 13, 13, 32)        0         \n",
      "_________________________________________________________________\n",
      "conv2d_18 (Conv2D)           (None, 11, 11, 32)        9248      \n",
      "_________________________________________________________________\n",
      "max_pooling2d_16 (MaxPooling (None, 5, 5, 32)          0         \n",
      "_________________________________________________________________\n",
      "dropout_5 (Dropout)          (None, 5, 5, 32)          0         \n",
      "_________________________________________________________________\n",
      "conv2d_19 (Conv2D)           (None, 3, 3, 32)          9248      \n",
      "_________________________________________________________________\n",
      "max_pooling2d_17 (MaxPooling (None, 1, 1, 32)          0         \n",
      "_________________________________________________________________\n",
      "flatten_5 (Flatten)          (None, 32)                0         \n",
      "_________________________________________________________________\n",
      "dense_5 (Dense)              (None, 10)                330       \n",
      "=================================================================\n",
      "Total params: 19,146\n",
      "Trainable params: 19,146\n",
      "Non-trainable params: 0\n",
      "_________________________________________________________________\n"
     ]
    }
   ],
   "source": [
    "model.summary()"
   ]
  },
  {
   "attachments": {},
   "cell_type": "markdown",
   "metadata": {},
   "source": [
    "We are going to do 10-way classification, so we use a final layer with 10 outputs and a softmax activation. Now here's what our network \n",
    "looks like:"
   ]
  },
  {
   "cell_type": "code",
   "execution_count": 51,
   "metadata": {},
   "outputs": [],
   "source": [
    "optimizer = k.optimizers.adam_v2.Adam(learning_rate=1e-3)\n",
    "\n",
    "model.compile(optimizer=optimizer,\n",
    "              loss=k.losses.categorical_crossentropy,\n",
    "              metrics=['accuracy'])"
   ]
  },
  {
   "cell_type": "code",
   "execution_count": 52,
   "metadata": {},
   "outputs": [],
   "source": [
    "weights_before = model.get_weights()"
   ]
  },
  {
   "cell_type": "code",
   "execution_count": 53,
   "metadata": {},
   "outputs": [
    {
     "name": "stdout",
     "output_type": "stream",
     "text": [
      "Epoch 1/500\n",
      "144/144 [==============================] - 280s 2s/step - loss: 547.0000 - accuracy: 0.1719 - val_loss: 179.8750 - val_accuracy: 0.2891\n",
      "Epoch 2/500\n",
      "144/144 [==============================] - 264s 2s/step - loss: 136.7500 - accuracy: 0.3496 - val_loss: 67.3125 - val_accuracy: 0.4758\n",
      "Epoch 3/500\n",
      "144/144 [==============================] - 255s 2s/step - loss: 68.3750 - accuracy: 0.4592 - val_loss: 34.6875 - val_accuracy: 0.5852\n",
      "Epoch 4/500\n",
      "144/144 [==============================] - 236s 2s/step - loss: 50.5000 - accuracy: 0.5364 - val_loss: 21.4531 - val_accuracy: 0.6536\n",
      "Epoch 5/500\n",
      "144/144 [==============================] - 231s 2s/step - loss: 31.5312 - accuracy: 0.6011 - val_loss: 13.7188 - val_accuracy: 0.6907\n",
      "Epoch 6/500\n",
      "144/144 [==============================] - 230s 2s/step - loss: 22.1719 - accuracy: 0.6282 - val_loss: 9.8633 - val_accuracy: 0.7046\n",
      "Epoch 7/500\n",
      "144/144 [==============================] - 221s 2s/step - loss: 15.2305 - accuracy: 0.6533 - val_loss: 7.1641 - val_accuracy: 0.7178\n",
      "Epoch 8/500\n",
      "144/144 [==============================] - 220s 2s/step - loss: 11.0195 - accuracy: 0.6616 - val_loss: 5.4121 - val_accuracy: 0.7227\n",
      "Epoch 9/500\n",
      "144/144 [==============================] - 221s 2s/step - loss: 8.2500 - accuracy: 0.6575 - val_loss: 4.2246 - val_accuracy: 0.7078\n",
      "Epoch 10/500\n",
      "144/144 [==============================] - 219s 2s/step - loss: 6.2129 - accuracy: 0.6450 - val_loss: 3.2930 - val_accuracy: 0.6846\n",
      "Epoch 11/500\n",
      "144/144 [==============================] - 214s 1s/step - loss: 4.5762 - accuracy: 0.6199 - val_loss: 2.4414 - val_accuracy: 0.6465\n",
      "Epoch 12/500\n",
      "144/144 [==============================] - 215s 1s/step - loss: 3.3564 - accuracy: 0.5803 - val_loss: 1.9595 - val_accuracy: 0.5933\n",
      "Epoch 13/500\n",
      "144/144 [==============================] - 212s 1s/step - loss: 2.4463 - accuracy: 0.5386 - val_loss: 1.6060 - val_accuracy: 0.5591\n"
     ]
    }
   ],
   "source": [
    "earlystop_callback = k.callbacks.EarlyStopping(monitor='val_accuracy',patience=5)\n",
    "\n",
    "history = model.fit(train_images, train_labels, epochs=500, batch_size=125, validation_split=0.1, callbacks=[earlystop_callback])"
   ]
  },
  {
   "cell_type": "code",
   "execution_count": 54,
   "metadata": {},
   "outputs": [],
   "source": [
    "weights_after = model.get_weights()"
   ]
  },
  {
   "cell_type": "code",
   "execution_count": 55,
   "metadata": {},
   "outputs": [
    {
     "name": "stdout",
     "output_type": "stream",
     "text": [
      "False\n",
      "[[[[0.614258 1.66406 1.53076 -0.784668 0.142151 1.05859 1.01807 1.09521\n",
      "    1.8877 -0.141479 0.861572 -0.953369 0.0431213 -2.97363 -1.39062\n",
      "    -0.467529 1.1748 -0.572998 2.06543 0.693115 1.04834 -1.24219\n",
      "    -0.0320129 0.852783 -1.98779 0.441772 0.564209 0.723389 -0.0661316\n",
      "    -0.62085 -1.09912 -0.539551]]\n",
      "\n",
      "  [[-1.3501 -0.0612488 -0.79126 0.63623 0.605713 -0.174133 -1.44189\n",
      "    1.24414 -1.97217 1.38916 1.30029 -1.5835 0.845459 1.22754 -0.482666\n",
      "    0.744629 0.93042 -0.344849 -0.482178 -1.53613 0.391479 1.771\n",
      "    1.38428 -0.319336 -0.616943 0.482422 -1.55957 -0.603271 0.24585\n",
      "    0.119385 -0.829102 0.651611]]\n",
      "\n",
      "  [[1.0957 -0.20752 0.0724182 -1.59766 -0.711182 -0.817871 1.45508\n",
      "    -0.504639 -0.759033 0.434937 1.49658 -0.211792 0.0694885 1.06934\n",
      "    -1.74365 0.0834351 -1.87842 -0.916992 -1.44238 0.346558 -0.368408\n",
      "    -1.59277 -0.174072 -0.157349 0.14447 -0.256348 1.78857 1.65967\n",
      "    0.810303 1.11816 -2.74805 -0.132874]]]\n",
      "\n",
      "\n",
      " [[[-0.614258 -0.261108 -0.286377 0.300659 -0.0980225 -0.717041\n",
      "    -2.41406 -0.74292 0.794922 0.00938416 -0.857178 -2.11133 -2.40137\n",
      "    1.98975 0.435791 -1.63965 0.966553 0.562256 -0.265869 0.0909119\n",
      "    1.51611 0.560547 -0.831787 -1.3877 0.280396 -0.278931 -0.480225\n",
      "    1.81836 2.3916 0.231262 -0.320923 -1.17236]]\n",
      "\n",
      "  [[1.41895 -1.7168 -0.019043 0.0300903 0.655518 1.09668 -0.409546\n",
      "    -2.23926 -0.704346 0.750488 -0.0440369 0.506348 -0.990723 2.01758\n",
      "    -0.0388184 1.01904 -1.11572 -0.405029 -0.279663 0.634033 -0.603027\n",
      "    0.442505 1.28125 0.577881 0.964111 1.37549 -0.638428 1.229 -0.17688\n",
      "    0.261963 -0.871826 0.157532]]\n",
      "\n",
      "  [[0.349365 -1.20459 -1.05273 -0.153137 -1.19971 -1.76123 -1.52197\n",
      "    0.537598 -1.71338 -1.31836 0.905029 0.328369 -0.550049 -1.57129\n",
      "    -0.87207 0.758789 -0.735596 -0.978271 0.775391 0.138306 -0.862549\n",
      "    1.01953 -1.79248 1.71729 0.724365 -2.09863 -0.316895 1.46143\n",
      "    -0.45752 -0.223328 -0.877686 -1.22119]]]\n",
      "\n",
      "\n",
      " [[[0.619873 0.727051 -0.269775 0.68042 1.85596 0.561035 -1.82861\n",
      "    -0.754639 1.88379 -1.04639 -0.0850525 0.927246 1.35352 -0.00493622\n",
      "    1.03174 -0.149414 0.489868 0.068573 1.02246 -0.219543 0.415039\n",
      "    0.803955 -1.76123 1.33789 -0.341553 -1.58789 -1.57227 0.127686\n",
      "    1.19727 0.89502 -0.495972 -0.836182]]\n",
      "\n",
      "  [[-0.00549698 -0.418457 -0.0732117 0.207275 -0.619385 0.19165\n",
      "    -1.05811 -1.87842 -1.15137 0.491333 1.08984 0.319946 0.124817\n",
      "    -0.793457 0.509766 -1.19482 -0.192139 -0.893555 1.21729 -1.30615\n",
      "    0.898682 0.43396 -0.79834 0.513916 0.297119 -0.544922 -0.375977\n",
      "    -0.0506897 0.67041 0.68457 -0.218262 -0.746826]]\n",
      "\n",
      "  [[-2.18262 -0.489258 0.94165 -0.358398 -0.76709 1.7998 -0.241455\n",
      "    2.41113 0.584229 -1.22363 -0.239746 -0.753906 -1.35791 -1.34619\n",
      "    1.49512 1.16797 2.6377 -1.35986 -0.5271 -0.286133 -0.709229\n",
      "    0.500488 -0.38147 0.604492 0.64624 -2.13672 0.321655 -0.9021\n",
      "    0.859375 1.00195 -0.302856 1.02588]]]]\n",
      "==============================\n",
      "[[[[0.495605 0.889404 1.11182 -0.76709 -0.0573425 0.76001 0.858887\n",
      "    0.744629 1.22266 -0.0533752 0.559326 -0.625 0.0349426 -1.90723\n",
      "    -0.908203 -0.172974 0.793701 -0.246521 1.35938 0.689453 0.690674\n",
      "    -0.991943 -0.0723267 0.555176 -1.35059 0.242432 0.314941 0.37915\n",
      "    -0.100525 -0.342529 -1.09912 -0.413086]]\n",
      "\n",
      "  [[-0.924805 -0.204224 -0.431519 0.368164 0.243896 -0.209961 -0.941406\n",
      "    0.801025 -1.52734 0.94873 0.724365 -1.04688 0.732178 0.704834\n",
      "    -0.32019 0.539795 0.700684 -0.143311 -0.380859 -0.947754 0.219727 1\n",
      "    0.90332 -0.303101 -0.465576 0.396851 -1.28271 -0.639404 0.100739\n",
      "    0.116882 -0.829102 0.414795]]\n",
      "\n",
      "  [[0.831055 -0.209534 0.253418 -1.04297 -0.647949 -0.578125 0.924805\n",
      "    -0.4646 -0.544434 0.374023 0.800537 -0.174744 0.209778 0.535156\n",
      "    -1.25244 0.0681458 -1.12598 -0.598877 -0.922607 0.33374 -0.335083\n",
      "    -1.19922 -0.197144 -0.20343 0.0300751 -0.0608521 0.997559 0.884033\n",
      "    0.473511 0.790527 -2.74805 -0.116455]]]\n",
      "\n",
      "\n",
      " [[[-0.377808 -0.325439 -0.106384 0.140625 -0.23761 -0.600342 -1.49121\n",
      "    -0.446899 0.452026 0.0388184 -0.483032 -1.39551 -1.67383 1.29932\n",
      "    0.158325 -0.891113 0.675293 0.532227 -0.246155 0.243469 0.911377\n",
      "    0.223816 -0.632568 -0.970703 0.0874023 -0.34436 -0.379517 0.961914\n",
      "    1.42139 0.236816 -0.320923 -0.823975]]\n",
      "\n",
      "  [[1.01221 -1.3252 0.1604 -0.031311 0.362793 0.750977 -0.243591\n",
      "    -1.38379 -0.498535 0.509766 -0.124359 0.412842 -0.597168 1.2041\n",
      "    -0.178772 0.777588 -0.825684 -0.17511 -0.28418 0.481079 -0.463867\n",
      "    0.159058 0.802002 0.366089 0.508057 0.875488 -0.500488 0.695557\n",
      "    -0.242798 0.211365 -0.871826 0.121521]]\n",
      "\n",
      "  [[0.328491 -0.789795 -0.498413 -0.0875549 -0.888916 -1.25537 -1.03711\n",
      "    0.259033 -1.12842 -0.832031 0.484619 0.277344 -0.24646 -1.45557\n",
      "    -0.889648 0.493408 -0.556396 -0.780029 0.467896 0.124023 -0.60791\n",
      "    0.614014 -1.49854 1.08203 0.407837 -1.43506 -0.454956 0.850586\n",
      "    -0.432617 -0.142883 -0.877686 -0.791748]]]\n",
      "\n",
      "\n",
      " [[[0.492676 0.416016 -0.0233307 0.47583 1.14844 0.346924 -1.15771\n",
      "    -0.359863 1.13916 -0.699463 0.102539 0.772705 0.876465 -0.0888062\n",
      "    0.495361 0.135803 0.346802 0.152771 0.639404 -0.00436401 0.213379\n",
      "    0.417603 -1.4292 0.842285 -0.363037 -1.21338 -1.14893 -0.0611267\n",
      "    0.684814 0.605957 -0.495972 -0.605225]]\n",
      "\n",
      "  [[0.0297089 -0.443237 0.134216 0.181641 -0.426758 0.100677 -0.783203\n",
      "    -1.16699 -0.899902 0.398193 0.805664 0.316406 0.108948 -0.708496\n",
      "    0.182007 -0.727539 -0.238464 -0.525879 0.729736 -0.904053 0.586182\n",
      "    0.164673 -0.647949 0.290283 0.0950317 -0.450806 -0.434814 -0.140991\n",
      "    0.350952 0.444824 -0.218262 -0.483032]]\n",
      "\n",
      "  [[-1.3833 -0.422485 0.898193 -0.205261 -0.450562 1.19629 -0.211609\n",
      "    1.45068 0.363403 -0.811279 -0.139648 -0.431152 -0.855957 -1.03906\n",
      "    0.8125 0.804688 1.49756 -0.803955 -0.474854 -0.173645 -0.487305\n",
      "    0.227783 -0.300537 0.368652 0.39978 -1.73633 0.0606384 -0.733398\n",
      "    0.49292 0.787354 -0.302856 0.843262]]]]\n"
     ]
    }
   ],
   "source": [
    "import numpy as np\n",
    "\n",
    "print(np.array_equal(weights_before[0],weights_after[0]))\n",
    "\n",
    "\n",
    "print(weights_before[0])\n",
    "print(\"==============================\")\n",
    "print(weights_after[0])"
   ]
  },
  {
   "attachments": {},
   "cell_type": "markdown",
   "metadata": {},
   "source": [
    "**Results of the training phase**\n",
    "\n",
    "In the following cell we've obtained the plots of the accuracy and loss for both\n",
    "the training and validation set."
   ]
  },
  {
   "cell_type": "code",
   "execution_count": 56,
   "metadata": {},
   "outputs": [
    {
     "data": {
      "image/png": "[encoded data removed]",
      "text/plain": [
       "<Figure size 640x480 with 1 Axes>"
      ]
     },
     "metadata": {},
     "output_type": "display_data"
    },
    {
     "data": {
      "image/png": "[encoded data removed]",
      "text/plain": [
       "<Figure size 640x480 with 1 Axes>"
      ]
     },
     "metadata": {},
     "output_type": "display_data"
    }
   ],
   "source": [
    "import matplotlib.pyplot as plt\n",
    "\n",
    "acc = history.history['accuracy']\n",
    "val_acc = history.history['val_accuracy']\n",
    "loss = history.history['loss']\n",
    "val_loss = history.history['val_loss']\n",
    "\n",
    "epochs = range(len(acc))\n",
    "\n",
    "plt.plot(epochs, acc, 'r', label='Training accuracy')\n",
    "plt.plot(epochs, val_acc, 'b', label='Validation accuracy')\n",
    "plt.title('Training and validation accuracy')\n",
    "plt.legend()\n",
    "\n",
    "plt.figure()\n",
    "\n",
    "plt.plot(epochs, loss, 'r', label='Training loss')\n",
    "plt.plot(epochs, val_loss, 'b', label='Validation loss')\n",
    "plt.title('Training and validation loss')\n",
    "plt.legend()\n",
    "\n",
    "plt.show()"
   ]
  },
  {
   "attachments": {},
   "cell_type": "markdown",
   "metadata": {},
   "source": [
    "##  Evaluating the model on the test set"
   ]
  },
  {
   "cell_type": "code",
   "execution_count": 57,
   "metadata": {},
   "outputs": [
    {
     "name": "stdout",
     "output_type": "stream",
     "text": [
      "313/313 [==============================] - 65s 209ms/step - loss: 1.3716 - accuracy: 0.4775\n"
     ]
    }
   ],
   "source": [
    "test_loss, test_acc = model.evaluate(test_images, test_labels)"
   ]
  },
  {
   "cell_type": "code",
   "execution_count": 58,
   "metadata": {},
   "outputs": [
    {
     "data": {
      "text/plain": [
       "0.477539"
      ]
     },
     "execution_count": 58,
     "metadata": {},
     "output_type": "execute_result"
    }
   ],
   "source": [
    "test_acc"
   ]
  },
  {
   "cell_type": "code",
   "execution_count": 59,
   "metadata": {},
   "outputs": [
    {
     "name": "stdout",
     "output_type": "stream",
     "text": [
      "prediction shape: (1, 10)\n"
     ]
    },
    {
     "data": {
      "text/plain": [
       "array([[0.0180054, 0.00715256, 0.213684, 0.734375, 0.000775337,\n",
       "        0.000823021, 0.000305176, 0.0135422, 0.0119781, 6.58631e-06]],\n",
       "      dtype=posit160)"
      ]
     },
     "execution_count": 59,
     "metadata": {},
     "output_type": "execute_result"
    }
   ],
   "source": [
    "prediction = model.predict(train_images[:1])\n",
    "print(\"prediction shape:\", prediction.shape)\n",
    "prediction"
   ]
  },
  {
   "cell_type": "code",
   "execution_count": 42,
   "metadata": {},
   "outputs": [
    {
     "name": "stdout",
     "output_type": "stream",
     "text": [
      "tf.Tensor(\n",
      "[-0.25138396  1.7331516  -0.34837875 -0.49174917 -1.0303775   0.65026253\n",
      " -1.1111982  -1.276356   -0.8411003  -2.0826323 ], shape=(10,), dtype=float32)\n"
     ]
    }
   ],
   "source": [
    "print(random_normal_init((10,)))\n"
   ]
  },
  {
   "cell_type": "code",
   "execution_count": 43,
   "metadata": {},
   "outputs": [
    {
     "name": "stdout",
     "output_type": "stream",
     "text": [
      "tf.Tensor(\n",
      "[-0.546143 -0.544922 -0.545654 -0.539062 -0.545166 -0.541016 -0.544434\n",
      " -0.542236 -0.54248 -0.544678], shape=(10,), dtype=posit160)\n"
     ]
    }
   ],
   "source": [
    "initializer = k.initializers.GlorotUniform()\n",
    "values = initializer(shape=(10,), dtype=\"posit160\")\n",
    "print(values)"
   ]
  }
 ],
 "metadata": {
  "kernelspec": {
   "display_name": "Python 3",
   "language": "python",
   "name": "python3"
  },
  "language_info": {
   "codemirror_mode": {
    "name": "ipython",
    "version": 3
   },
   "file_extension": ".py",
   "mimetype": "text/x-python",
   "name": "python",
   "nbconvert_exporter": "python",
   "pygments_lexer": "ipython3",
   "version": "3.8.17"
  },
  "orig_nbformat": 4
 },
 "nbformat": 4,
 "nbformat_minor": 2
}
