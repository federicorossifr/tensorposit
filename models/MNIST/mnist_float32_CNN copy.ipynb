{
 "cells": [
  {
   "attachments": {},
   "cell_type": "markdown",
   "metadata": {},
   "source": [
    "## Download and prepare the dataset"
   ]
  },
  {
   "cell_type": "code",
   "execution_count": 35,
   "metadata": {},
   "outputs": [],
   "source": [
    "from tensorflow.python.keras.datasets import mnist\n",
    "from tensorflow.python.keras.utils.np_utils import to_categorical\n",
    "from tensorflow import random\n",
    "import tensorflow.python.keras as k\n",
    "k.backend.set_floatx(\"posit160\")\n",
    "k.backend.floatx()\n",
    "\n",
    "random.set_seed(512)\n",
    "\n",
    "(train_images, train_labels), (test_images, test_labels) = mnist.load_data()\n",
    "\n",
    "train_images = train_images.reshape((60000, 28, 28, 1))\n",
    "train_images = train_images.astype('float32') / 255\n",
    "\n",
    "test_images = test_images.reshape((10000, 28, 28, 1))\n",
    "test_images = test_images.astype('float32') / 255\n",
    "\n",
    "train_labels = to_categorical(train_labels)\n",
    "test_labels = to_categorical(test_labels)"
   ]
  },
  {
   "attachments": {},
   "cell_type": "markdown",
   "metadata": {},
   "source": [
    "## Download and prepare the dataset"
   ]
  },
  {
   "cell_type": "code",
   "execution_count": 36,
   "metadata": {},
   "outputs": [],
   "source": [
    "\n",
    "from tensorflow.python.keras import layers\n",
    "from tensorflow.python.keras import models\n",
    "\n",
    "model = models.Sequential()\n",
    "model.add(layers.Conv2D(16, (3, 3), activation='tanh', input_shape=(28, 28, 1)))\n",
    "model.add(layers.MaxPooling2D((2, 2)))\n",
    "model.add(layers.Conv2D(32, (3, 3), activation='tanh'))\n",
    "model.add(layers.MaxPooling2D((2, 2)))\n",
    "model.add(layers.Flatten())\n",
    "model.add(layers.Dense(64, activation='tanh'))\n",
    "model.add(layers.Dense(10, activation='softmax'))"
   ]
  },
  {
   "attachments": {},
   "cell_type": "markdown",
   "metadata": {},
   "source": [
    "Let's display the architecture of our convnet so far:"
   ]
  },
  {
   "attachments": {},
   "cell_type": "markdown",
   "metadata": {},
   "source": [
    "We are going to do 10-way classification, so we use a final layer with 10 outputs and a softmax activation. Now here's what our network \n",
    "looks like:"
   ]
  },
  {
   "cell_type": "code",
   "execution_count": 37,
   "metadata": {},
   "outputs": [
    {
     "name": "stdout",
     "output_type": "stream",
     "text": [
      "Model: \"sequential_9\"\n",
      "_________________________________________________________________\n",
      "Layer (type)                 Output Shape              Param #   \n",
      "=================================================================\n",
      "conv2d_21 (Conv2D)           (None, 26, 26, 16)        160       \n",
      "_________________________________________________________________\n",
      "max_pooling2d_21 (MaxPooling (None, 13, 13, 16)        0         \n",
      "_________________________________________________________________\n",
      "conv2d_22 (Conv2D)           (None, 11, 11, 32)        4640      \n",
      "_________________________________________________________________\n",
      "max_pooling2d_22 (MaxPooling (None, 5, 5, 32)          0         \n",
      "_________________________________________________________________\n",
      "flatten_9 (Flatten)          (None, 800)               0         \n",
      "_________________________________________________________________\n",
      "dense_17 (Dense)             (None, 64)                51264     \n",
      "_________________________________________________________________\n",
      "dense_18 (Dense)             (None, 10)                650       \n",
      "=================================================================\n",
      "Total params: 56,714\n",
      "Trainable params: 56,714\n",
      "Non-trainable params: 0\n",
      "_________________________________________________________________\n"
     ]
    }
   ],
   "source": [
    "model.summary()"
   ]
  },
  {
   "cell_type": "code",
   "execution_count": 38,
   "metadata": {},
   "outputs": [],
   "source": [
    "earlystop_callback = k.callbacks.EarlyStopping(monitor='val_accuracy',patience=5)\n",
    "\n",
    "model.compile(optimizer='adam',\n",
    "              loss=k.losses.categorical_crossentropy,\n",
    "              metrics=['accuracy'])"
   ]
  },
  {
   "cell_type": "code",
   "execution_count": 39,
   "metadata": {},
   "outputs": [
    {
     "name": "stdout",
     "output_type": "stream",
     "text": [
      "Epoch 1/25\n",
      "422/422 [==============================] - 237s 563ms/step - loss: 1.2158 - accuracy: 0.0837 - val_loss: 2.2607 - val_accuracy: 0.0952\n",
      "Epoch 2/25\n",
      "422/422 [==============================] - 232s 550ms/step - loss: 1.2158 - accuracy: 0.0852 - val_loss: 2.2607 - val_accuracy: 0.0952\n",
      "Epoch 3/25\n",
      "422/422 [==============================] - 240s 569ms/step - loss: 1.2158 - accuracy: 0.0840 - val_loss: 2.2607 - val_accuracy: 0.1000\n",
      "Epoch 4/25\n",
      "422/422 [==============================] - 231s 548ms/step - loss: 1.2158 - accuracy: 0.0852 - val_loss: 2.2607 - val_accuracy: 0.1000\n",
      "Epoch 5/25\n",
      "422/422 [==============================] - 236s 559ms/step - loss: 1.2158 - accuracy: 0.0858 - val_loss: 2.2607 - val_accuracy: 0.1050\n",
      "Epoch 6/25\n",
      "422/422 [==============================] - 253s 601ms/step - loss: 1.2158 - accuracy: 0.0816 - val_loss: 2.2607 - val_accuracy: 0.0995\n",
      "Epoch 7/25\n",
      "422/422 [==============================] - 250s 593ms/step - loss: 1.2158 - accuracy: 0.0813 - val_loss: 2.2607 - val_accuracy: 0.1050\n",
      "Epoch 8/25\n",
      "422/422 [==============================] - 250s 593ms/step - loss: 1.2158 - accuracy: 0.0849 - val_loss: 2.2607 - val_accuracy: 0.0978\n",
      "Epoch 9/25\n",
      "422/422 [==============================] - 246s 583ms/step - loss: 1.2158 - accuracy: 0.0816 - val_loss: 2.2607 - val_accuracy: 0.0992\n",
      "Epoch 10/25\n",
      "422/422 [==============================] - 249s 590ms/step - loss: 1.2158 - accuracy: 0.0855 - val_loss: 2.2607 - val_accuracy: 0.0952\n"
     ]
    }
   ],
   "source": [
    "history = model.fit(train_images,\n",
    "                    train_labels,\n",
    "                    epochs=25,\n",
    "                    batch_size=128,\n",
    "                    validation_split=0.1,\n",
    "                    callbacks=[earlystop_callback])"
   ]
  },
  {
   "cell_type": "code",
   "execution_count": 40,
   "metadata": {},
   "outputs": [
    {
     "data": {
      "image/png": "[encoded data removed]",
      "text/plain": [
       "<Figure size 640x480 with 1 Axes>"
      ]
     },
     "metadata": {},
     "output_type": "display_data"
    },
    {
     "data": {
      "image/png": "[encoded data removed]",
      "text/plain": [
       "<Figure size 640x480 with 1 Axes>"
      ]
     },
     "metadata": {},
     "output_type": "display_data"
    }
   ],
   "source": [
    "import matplotlib.pyplot as plt\n",
    "\n",
    "acc = history.history['accuracy']\n",
    "val_acc = history.history['val_accuracy']\n",
    "loss = history.history['loss']\n",
    "val_loss = history.history['val_loss']\n",
    "\n",
    "epochs = range(len(acc))\n",
    "\n",
    "plt.plot(epochs, acc, 'r', label='Training accuracy')\n",
    "plt.plot(epochs, val_acc, 'b', label='Validation accuracy')\n",
    "plt.title('Training and validation accuracy')\n",
    "plt.legend()\n",
    "\n",
    "plt.figure()\n",
    "\n",
    "plt.plot(epochs, loss, 'r', label='Training loss')\n",
    "plt.plot(epochs, val_loss, 'b', label='Validation loss')\n",
    "plt.title('Training and validation loss')\n",
    "plt.legend()\n",
    "\n",
    "plt.show()"
   ]
  },
  {
   "attachments": {},
   "cell_type": "markdown",
   "metadata": {},
   "source": [
    "##  Evaluating the model on the test set"
   ]
  },
  {
   "cell_type": "code",
   "execution_count": 41,
   "metadata": {},
   "outputs": [
    {
     "name": "stdout",
     "output_type": "stream",
     "text": [
      "313/313 [==============================] - 28s 89ms/step - loss: 2.0439 - accuracy: 0.0959\n"
     ]
    }
   ],
   "source": [
    "test_loss, test_acc = model.evaluate(test_images, test_labels)"
   ]
  },
  {
   "cell_type": "code",
   "execution_count": 42,
   "metadata": {},
   "outputs": [
    {
     "data": {
      "text/plain": [
       "0.0959473"
      ]
     },
     "execution_count": 42,
     "metadata": {},
     "output_type": "execute_result"
    }
   ],
   "source": [
    "test_acc"
   ]
  },
  {
   "cell_type": "code",
   "execution_count": 43,
   "metadata": {},
   "outputs": [
    {
     "data": {
      "text/plain": [
       "array([[[[-0.197205, -0.197937, -0.195129, -0.196716, -0.197815,\n",
       "          -0.197205, -0.195007, -0.195496, -0.194885, -0.195312,\n",
       "          -0.197937, -0.197144, -0.195374, -0.197571, -0.196228,\n",
       "          -0.195984]],\n",
       "\n",
       "        [[-0.197388, -0.195679, -0.196228, -0.19574, -0.195801,\n",
       "          -0.19696, -0.195251, -0.195679, -0.195007, -0.195068,\n",
       "          -0.195129, -0.197327, -0.196594, -0.19751, -0.195679,\n",
       "          -0.196228]],\n",
       "\n",
       "        [[-0.197632, -0.196289, -0.197937, -0.195801, -0.196899,\n",
       "          -0.197449, -0.19519, -0.197876, -0.196472, -0.195984,\n",
       "          -0.196045, -0.194946, -0.197876, -0.195862, -0.196716,\n",
       "          -0.195923]]],\n",
       "\n",
       "\n",
       "       [[[-0.196228, -0.196228, -0.196228, -0.195129, -0.196594,\n",
       "          -0.195923, -0.197876, -0.197815, -0.19519, -0.196655,\n",
       "          -0.19574, -0.196655, -0.196716, -0.195496, -0.195374,\n",
       "          -0.196106]],\n",
       "\n",
       "        [[-0.196167, -0.19696, -0.195435, -0.194885, -0.19519,\n",
       "          -0.195007, -0.196106, -0.195618, -0.195801, -0.195312,\n",
       "          -0.195984, -0.196777, -0.196411, -0.195679, -0.197632,\n",
       "          -0.197754]],\n",
       "\n",
       "        [[-0.196533, -0.195984, -0.196533, -0.196289, -0.196899,\n",
       "          -0.196472, -0.195557, -0.196289, -0.196533, -0.197571,\n",
       "          -0.197815, -0.196838, -0.195251, -0.195007, -0.197205,\n",
       "          -0.196533]]],\n",
       "\n",
       "\n",
       "       [[[-0.196167, -0.194946, -0.197876, -0.195557, -0.195923,\n",
       "          -0.197449, -0.197388, -0.195679, -0.196777, -0.196472,\n",
       "          -0.194946, -0.196106, -0.197144, -0.197144, -0.195618,\n",
       "          -0.195801]],\n",
       "\n",
       "        [[-0.195557, -0.196838, -0.197571, -0.19519, -0.194946,\n",
       "          -0.197083, -0.196228, -0.195801, -0.195435, -0.197083,\n",
       "          -0.197754, -0.197388, -0.19519, -0.197083, -0.19519,\n",
       "          -0.197754]],\n",
       "\n",
       "        [[-0.197693, -0.196899, -0.195496, -0.197876, -0.197632,\n",
       "          -0.19574, -0.196106, -0.197083, -0.196411, -0.19519,\n",
       "          -0.196777, -0.197937, -0.196655, -0.195068, -0.19574,\n",
       "          -0.195618]]]], dtype=posit160)"
      ]
     },
     "execution_count": 43,
     "metadata": {},
     "output_type": "execute_result"
    }
   ],
   "source": [
    "first_layer_weights = model.layers[0].get_weights()[0]\n",
    "first_layer_biases  = model.layers[0].get_weights()[1]\n",
    "first_layer_weights"
   ]
  },
  {
   "cell_type": "code",
   "execution_count": 45,
   "metadata": {},
   "outputs": [
    {
     "name": "stdout",
     "output_type": "stream",
     "text": [
      "prediction shape: (1, 10)\n"
     ]
    },
    {
     "data": {
      "text/plain": [
       "array([[0.0953674, 0.10434, 0.094635, 0.092804, 0.097229, 0.0858154,\n",
       "        0.115967, 0.115967, 0.104736, 0.0931702]], dtype=posit160)"
      ]
     },
     "execution_count": 45,
     "metadata": {},
     "output_type": "execute_result"
    }
   ],
   "source": [
    "prediction = model.predict(train_images[:1])\n",
    "print(\"prediction shape:\", prediction.shape)\n",
    "prediction"
   ]
  }
 ],
 "metadata": {
  "kernelspec": {
   "display_name": "Python 3",
   "language": "python",
   "name": "python3"
  },
  "language_info": {
   "codemirror_mode": {
    "name": "ipython",
    "version": 3
   },
   "file_extension": ".py",
   "mimetype": "text/x-python",
   "name": "python",
   "nbconvert_exporter": "python",
   "pygments_lexer": "ipython3",
   "version": "3.8.17"
  },
  "orig_nbformat": 4
 },
 "nbformat": 4,
 "nbformat_minor": 2
}
