{
 "cells": [
  {
   "attachments": {},
   "cell_type": "markdown",
   "metadata": {},
   "source": [
    "## Download and prepare the dataset"
   ]
  },
  {
   "cell_type": "code",
   "execution_count": 1,
   "metadata": {},
   "outputs": [
    {
     "name": "stderr",
     "output_type": "stream",
     "text": [
      "2023-07-18 16:59:01.730719: E tensorflow/core/lib/monitoring/collection_registry.cc:77] Cannot register 2 metrics with the same name: /tensorflow/core/saved_model/write/count\n",
      "2023-07-18 16:59:01.730798: E tensorflow/core/lib/monitoring/collection_registry.cc:77] Cannot register 2 metrics with the same name: /tensorflow/core/saved_model/read/count\n",
      "2023-07-18 16:59:01.730805: E tensorflow/core/lib/monitoring/collection_registry.cc:77] Cannot register 2 metrics with the same name: /tensorflow/core/saved_model/write/api\n",
      "2023-07-18 16:59:01.730808: E tensorflow/core/lib/monitoring/collection_registry.cc:77] Cannot register 2 metrics with the same name: /tensorflow/core/saved_model/read/api\n"
     ]
    }
   ],
   "source": [
    "from tensorflow.python.keras.datasets import mnist\n",
    "from tensorflow.python.keras.utils.np_utils import to_categorical\n",
    "from tensorflow import random\n",
    "import tensorflow.python.keras as k\n",
    "random.set_seed(1024)\n",
    "\n",
    "def random_normal_init(shape, dtype=None):\n",
    "    return random.normal(shape, dtype=\"float32\")\n",
    "\n",
    "(train_images, train_labels), (test_images, test_labels) = mnist.load_data()\n",
    "\n",
    "train_images = train_images[:20000].reshape((20000, 28, 28, 1))\n",
    "train_images = train_images.astype('float32') / 255\n",
    "\n",
    "test_images = test_images.reshape((10000, 28, 28, 1))\n",
    "test_images = test_images.astype('float32') / 255\n",
    "\n",
    "train_labels = to_categorical(train_labels[:20000])\n",
    "test_labels = to_categorical(test_labels)"
   ]
  },
  {
   "attachments": {},
   "cell_type": "markdown",
   "metadata": {},
   "source": [
    "## Download and prepare the dataset"
   ]
  },
  {
   "cell_type": "code",
   "execution_count": 2,
   "metadata": {},
   "outputs": [
    {
     "name": "stderr",
     "output_type": "stream",
     "text": [
      "2023-07-18 16:59:02.953518: I tensorflow/core/platform/cpu_feature_guard.cc:142] This TensorFlow binary is optimized with oneAPI Deep Neural Network Library (oneDNN) to use the following CPU instructions in performance-critical operations:  SSE3 SSE4.1 SSE4.2 AVX AVX2 FMA\n",
      "To enable them in other operations, rebuild TensorFlow with the appropriate compiler flags.\n"
     ]
    }
   ],
   "source": [
    "\n",
    "from tensorflow.python.keras import layers\n",
    "from tensorflow.python.keras import models\n",
    "\n",
    "model = models.Sequential()\n",
    "model.add(layers.Conv2D(32, (3, 3), activation='relu', input_shape=(28, 28, 1), kernel_initializer=random_normal_init))\n",
    "model.add(layers.MaxPooling2D((2, 2)))\n",
    "model.add(layers.Conv2D(32, (3, 3), activation='relu', kernel_initializer=random_normal_init))\n",
    "model.add(layers.MaxPooling2D((2, 2)))\n",
    "model.add(layers.Conv2D(32, (3, 3), activation='relu', kernel_initializer=random_normal_init))\n",
    "model.add(layers.MaxPooling2D((2, 2)))\n",
    "model.add(layers.Flatten())\n",
    "model.add(layers.Dense(10, activation='softmax',kernel_initializer=random_normal_init))"
   ]
  },
  {
   "attachments": {},
   "cell_type": "markdown",
   "metadata": {},
   "source": [
    "Let's display the architecture of our convnet so far:"
   ]
  },
  {
   "attachments": {},
   "cell_type": "markdown",
   "metadata": {},
   "source": [
    "We are going to do 10-way classification, so we use a final layer with 10 outputs and a softmax activation. Now here's what our network \n",
    "looks like:"
   ]
  },
  {
   "cell_type": "code",
   "execution_count": 3,
   "metadata": {},
   "outputs": [
    {
     "name": "stdout",
     "output_type": "stream",
     "text": [
      "Model: \"sequential\"\n",
      "_________________________________________________________________\n",
      "Layer (type)                 Output Shape              Param #   \n",
      "=================================================================\n",
      "conv2d (Conv2D)              (None, 26, 26, 32)        320       \n",
      "_________________________________________________________________\n",
      "max_pooling2d (MaxPooling2D) (None, 13, 13, 32)        0         \n",
      "_________________________________________________________________\n",
      "conv2d_1 (Conv2D)            (None, 11, 11, 32)        9248      \n",
      "_________________________________________________________________\n",
      "max_pooling2d_1 (MaxPooling2 (None, 5, 5, 32)          0         \n",
      "_________________________________________________________________\n",
      "conv2d_2 (Conv2D)            (None, 3, 3, 32)          9248      \n",
      "_________________________________________________________________\n",
      "max_pooling2d_2 (MaxPooling2 (None, 1, 1, 32)          0         \n",
      "_________________________________________________________________\n",
      "flatten (Flatten)            (None, 32)                0         \n",
      "_________________________________________________________________\n",
      "dense (Dense)                (None, 10)                330       \n",
      "=================================================================\n",
      "Total params: 19,146\n",
      "Trainable params: 19,146\n",
      "Non-trainable params: 0\n",
      "_________________________________________________________________\n"
     ]
    }
   ],
   "source": [
    "model.summary()"
   ]
  },
  {
   "cell_type": "code",
   "execution_count": 4,
   "metadata": {},
   "outputs": [],
   "source": [
    "earlystop_callback = k.callbacks.EarlyStopping(monitor='val_accuracy',patience=5)\n",
    "\n",
    "model.compile(optimizer='adam',\n",
    "              loss=k.losses.categorical_crossentropy,\n",
    "              metrics=['accuracy'])"
   ]
  },
  {
   "cell_type": "code",
   "execution_count": 5,
   "metadata": {},
   "outputs": [
    {
     "name": "stderr",
     "output_type": "stream",
     "text": [
      "2023-07-18 16:59:03.495173: I tensorflow/compiler/mlir/mlir_graph_optimization_pass.cc:164] None of the MLIR Optimization Passes are enabled (registered 2)\n"
     ]
    },
    {
     "name": "stdout",
     "output_type": "stream",
     "text": [
      "Epoch 1/25\n",
      "141/141 [==============================] - 4s 28ms/step - loss: 560.3066 - accuracy: 0.2144 - val_loss: 187.0206 - val_accuracy: 0.3835\n",
      "Epoch 2/25\n",
      "141/141 [==============================] - 4s 31ms/step - loss: 135.4002 - accuracy: 0.4793 - val_loss: 98.2151 - val_accuracy: 0.5735\n",
      "Epoch 3/25\n",
      "141/141 [==============================] - 4s 28ms/step - loss: 84.3679 - accuracy: 0.6071 - val_loss: 66.5985 - val_accuracy: 0.6620\n",
      "Epoch 4/25\n",
      "141/141 [==============================] - 4s 27ms/step - loss: 62.0070 - accuracy: 0.6781 - val_loss: 51.7075 - val_accuracy: 0.7195\n",
      "Epoch 5/25\n",
      "141/141 [==============================] - 4s 27ms/step - loss: 49.4057 - accuracy: 0.7220 - val_loss: 41.2285 - val_accuracy: 0.7490\n",
      "Epoch 6/25\n",
      "141/141 [==============================] - 4s 29ms/step - loss: 40.7000 - accuracy: 0.7543 - val_loss: 35.8716 - val_accuracy: 0.7680\n",
      "Epoch 7/25\n",
      "141/141 [==============================] - 4s 26ms/step - loss: 34.1689 - accuracy: 0.7801 - val_loss: 30.5987 - val_accuracy: 0.7845\n",
      "Epoch 8/25\n",
      "141/141 [==============================] - 4s 26ms/step - loss: 29.4982 - accuracy: 0.7978 - val_loss: 26.7712 - val_accuracy: 0.8050\n",
      "Epoch 9/25\n",
      "141/141 [==============================] - 4s 27ms/step - loss: 25.8409 - accuracy: 0.8122 - val_loss: 23.5880 - val_accuracy: 0.8180\n",
      "Epoch 10/25\n",
      "141/141 [==============================] - 4s 26ms/step - loss: 22.7090 - accuracy: 0.8276 - val_loss: 21.5045 - val_accuracy: 0.8320\n",
      "Epoch 11/25\n",
      "141/141 [==============================] - 3s 25ms/step - loss: 20.4844 - accuracy: 0.8368 - val_loss: 19.5717 - val_accuracy: 0.8465\n",
      "Epoch 12/25\n",
      "141/141 [==============================] - 3s 24ms/step - loss: 18.3956 - accuracy: 0.8494 - val_loss: 18.1697 - val_accuracy: 0.8485\n",
      "Epoch 13/25\n",
      "141/141 [==============================] - 4s 25ms/step - loss: 16.7922 - accuracy: 0.8551 - val_loss: 16.7524 - val_accuracy: 0.8575\n",
      "Epoch 14/25\n",
      "141/141 [==============================] - 3s 24ms/step - loss: 15.1167 - accuracy: 0.8654 - val_loss: 16.5427 - val_accuracy: 0.8570\n",
      "Epoch 15/25\n",
      "141/141 [==============================] - 3s 24ms/step - loss: 14.0210 - accuracy: 0.8713 - val_loss: 15.2421 - val_accuracy: 0.8675\n",
      "Epoch 16/25\n",
      "141/141 [==============================] - 4s 25ms/step - loss: 13.0581 - accuracy: 0.8787 - val_loss: 14.3917 - val_accuracy: 0.8730\n",
      "Epoch 17/25\n",
      "141/141 [==============================] - 4s 26ms/step - loss: 11.9616 - accuracy: 0.8821 - val_loss: 13.6740 - val_accuracy: 0.8765\n",
      "Epoch 18/25\n",
      "141/141 [==============================] - 3s 25ms/step - loss: 11.1654 - accuracy: 0.8866 - val_loss: 13.2194 - val_accuracy: 0.8790\n",
      "Epoch 19/25\n",
      "141/141 [==============================] - 4s 28ms/step - loss: 10.4031 - accuracy: 0.8927 - val_loss: 12.5852 - val_accuracy: 0.8820\n",
      "Epoch 20/25\n",
      "141/141 [==============================] - 4s 28ms/step - loss: 9.6726 - accuracy: 0.8979 - val_loss: 12.2604 - val_accuracy: 0.8870\n",
      "Epoch 21/25\n",
      "141/141 [==============================] - 4s 28ms/step - loss: 9.0780 - accuracy: 0.9014 - val_loss: 11.5493 - val_accuracy: 0.8890\n",
      "Epoch 22/25\n",
      "141/141 [==============================] - 4s 27ms/step - loss: 8.6157 - accuracy: 0.9023 - val_loss: 11.1162 - val_accuracy: 0.8940\n",
      "Epoch 23/25\n",
      "141/141 [==============================] - 4s 27ms/step - loss: 8.0059 - accuracy: 0.9084 - val_loss: 10.8819 - val_accuracy: 0.8930\n",
      "Epoch 24/25\n",
      "141/141 [==============================] - 5s 35ms/step - loss: 7.4370 - accuracy: 0.9146 - val_loss: 10.5379 - val_accuracy: 0.8940\n",
      "Epoch 25/25\n",
      "141/141 [==============================] - 4s 32ms/step - loss: 7.0226 - accuracy: 0.9148 - val_loss: 9.9467 - val_accuracy: 0.8970\n"
     ]
    }
   ],
   "source": [
    "history = model.fit(train_images,\n",
    "                    train_labels,\n",
    "                    epochs=25,\n",
    "                    batch_size=128,\n",
    "                    validation_split=0.1,\n",
    "                    callbacks=[earlystop_callback])"
   ]
  },
  {
   "cell_type": "code",
   "execution_count": 6,
   "metadata": {},
   "outputs": [
    {
     "data": {
      "image/png": "[encoded data removed]",
      "text/plain": [
       "<Figure size 640x480 with 1 Axes>"
      ]
     },
     "metadata": {},
     "output_type": "display_data"
    },
    {
     "data": {
      "image/png": "[encoded data removed]",
      "text/plain": [
       "<Figure size 640x480 with 1 Axes>"
      ]
     },
     "metadata": {},
     "output_type": "display_data"
    }
   ],
   "source": [
    "import matplotlib.pyplot as plt\n",
    "\n",
    "acc = history.history['accuracy']\n",
    "val_acc = history.history['val_accuracy']\n",
    "loss = history.history['loss']\n",
    "val_loss = history.history['val_loss']\n",
    "\n",
    "epochs = range(len(acc))\n",
    "\n",
    "plt.plot(epochs, acc, 'r', label='Training accuracy')\n",
    "plt.plot(epochs, val_acc, 'b', label='Validation accuracy')\n",
    "plt.title('Training and validation accuracy')\n",
    "plt.legend()\n",
    "\n",
    "plt.figure()\n",
    "\n",
    "plt.plot(epochs, loss, 'r', label='Training loss')\n",
    "plt.plot(epochs, val_loss, 'b', label='Validation loss')\n",
    "plt.title('Training and validation loss')\n",
    "plt.legend()\n",
    "\n",
    "plt.show()"
   ]
  },
  {
   "attachments": {},
   "cell_type": "markdown",
   "metadata": {},
   "source": [
    "##  Evaluating the model on the test set"
   ]
  },
  {
   "cell_type": "code",
   "execution_count": 7,
   "metadata": {},
   "outputs": [
    {
     "name": "stdout",
     "output_type": "stream",
     "text": [
      "313/313 [==============================] - 2s 5ms/step - loss: 11.9982 - accuracy: 0.8863\n"
     ]
    }
   ],
   "source": [
    "test_loss, test_acc = model.evaluate(test_images, test_labels)"
   ]
  },
  {
   "cell_type": "code",
   "execution_count": 8,
   "metadata": {},
   "outputs": [
    {
     "data": {
      "text/plain": [
       "0.8863000273704529"
      ]
     },
     "execution_count": 8,
     "metadata": {},
     "output_type": "execute_result"
    }
   ],
   "source": [
    "test_acc"
   ]
  },
  {
   "cell_type": "code",
   "execution_count": 9,
   "metadata": {},
   "outputs": [
    {
     "data": {
      "text/plain": [
       "array([[[[ 7.19385087e-01,  1.40303075e+00,  1.50696111e+00,\n",
       "          -1.00167549e+00, -1.24212369e-01,  1.05334568e+00,\n",
       "           9.43898737e-01,  8.61184120e-01,  1.69556296e+00,\n",
       "          -1.55803680e-01,  9.16856647e-01, -8.07768524e-01,\n",
       "          -4.69029807e-02, -2.78926253e+00, -1.13820386e+00,\n",
       "          -3.50800365e-01,  1.08276391e+00, -6.29221201e-01,\n",
       "           1.98372424e+00,  6.96482480e-01,  9.32695091e-01,\n",
       "          -1.28880703e+00, -2.66633136e-03,  8.32228959e-01,\n",
       "          -1.70636237e+00,  3.88125837e-01,  3.60180587e-01,\n",
       "           5.93720853e-01, -1.11534975e-01, -5.20993769e-01,\n",
       "          -1.09926724e+00, -3.33053380e-01]],\n",
       "\n",
       "        [[-1.38583100e+00, -2.54418612e-01, -6.53467894e-01,\n",
       "           5.29594183e-01,  3.30971688e-01, -2.50595808e-01,\n",
       "          -1.43738484e+00,  9.55823064e-01, -1.92209935e+00,\n",
       "           1.27228904e+00,  1.02117908e+00, -1.60746944e+00,\n",
       "           9.00272608e-01,  1.02167261e+00, -3.42277199e-01,\n",
       "           6.77227855e-01,  8.93125474e-01, -4.72218335e-01,\n",
       "          -4.42743868e-01, -1.59771144e+00,  3.21019322e-01,\n",
       "           1.57751441e+00,  1.33493817e+00, -4.90352839e-01,\n",
       "          -5.92263877e-01,  5.95089138e-01, -1.49016225e+00,\n",
       "          -8.90580297e-01,  1.19703077e-01,  9.81488228e-02,\n",
       "          -8.29233825e-01,  5.22424281e-01]],\n",
       "\n",
       "        [[ 1.15956461e+00, -3.06633443e-01,  2.03956097e-01,\n",
       "          -1.45186079e+00, -8.65617275e-01, -8.48484635e-01,\n",
       "           1.24250090e+00, -7.74941862e-01, -9.34469402e-01,\n",
       "           3.64576757e-01,  1.18016791e+00, -4.01223034e-01,\n",
       "           3.46660286e-01,  9.11311746e-01, -1.68751752e+00,\n",
       "           1.05338424e-01, -1.54650962e+00, -1.01609468e+00,\n",
       "          -1.22356844e+00,  3.85642648e-01, -5.03022313e-01,\n",
       "          -1.58884192e+00, -2.90478587e-01, -4.07784373e-01,\n",
       "           1.71429496e-02, -2.52247397e-02,  1.60601127e+00,\n",
       "           1.13654375e+00,  7.47240365e-01,  9.97273207e-01,\n",
       "          -2.74901986e+00, -1.43894583e-01]]],\n",
       "\n",
       "\n",
       "       [[[-5.02247989e-01, -4.36698079e-01, -1.15817592e-01,\n",
       "           2.82955676e-01, -2.55700648e-01, -7.44615197e-01,\n",
       "          -2.34983397e+00, -8.12730014e-01,  5.86049318e-01,\n",
       "           4.29878570e-02, -5.62860191e-01, -1.78889179e+00,\n",
       "          -2.45804262e+00,  1.91319561e+00,  1.83429420e-01,\n",
       "          -1.33956826e+00,  9.24374640e-01,  6.85342729e-01,\n",
       "          -2.58207947e-01,  1.07718654e-01,  1.39264357e+00,\n",
       "           3.76613587e-01, -7.69209802e-01, -1.47056186e+00,\n",
       "           1.76872373e-01, -4.21800464e-01, -5.08847833e-01,\n",
       "           1.53049541e+00,  2.11818051e+00,  3.13236058e-01,\n",
       "          -3.21042955e-01, -9.07768488e-01]],\n",
       "\n",
       "        [[ 1.44498909e+00, -1.74251747e+00,  2.38045201e-01,\n",
       "          -3.25274207e-02,  6.59331560e-01,  9.94801342e-01,\n",
       "          -3.75338554e-01, -2.20565057e+00, -6.49163783e-01,\n",
       "           7.53829718e-01, -7.03180581e-02,  5.22105217e-01,\n",
       "          -8.12311769e-01,  1.78484368e+00, -2.68613875e-01,\n",
       "           9.36544836e-01, -1.11974347e+00, -6.79237247e-01,\n",
       "          -2.58811653e-01,  4.48286116e-01, -6.32753789e-01,\n",
       "           2.04317942e-01,  1.18500721e+00,  4.21937257e-01,\n",
       "           7.28475928e-01,  1.29424834e+00, -7.14735568e-01,\n",
       "           8.73538971e-01, -3.71411622e-01,  1.90510556e-01,\n",
       "          -8.72049749e-01,  4.91333678e-02]],\n",
       "\n",
       "        [[ 4.91584510e-01, -1.12361312e+00, -8.30519438e-01,\n",
       "          -2.04075620e-01, -1.18193007e+00, -1.72322249e+00,\n",
       "          -1.60124779e+00,  2.17587903e-01, -1.58874679e+00,\n",
       "          -1.27062047e+00,  6.98970556e-01,  3.70387614e-01,\n",
       "          -1.82699993e-01, -1.68034434e+00, -1.04190946e+00,\n",
       "           7.16688693e-01, -7.80171514e-01, -9.30634797e-01,\n",
       "           7.94826329e-01,  5.98823354e-02, -8.78945827e-01,\n",
       "           8.85773599e-01, -1.96619213e+00,  1.44227481e+00,\n",
       "           5.42880058e-01, -1.76872218e+00, -5.78071177e-01,\n",
       "           1.24345648e+00, -4.88151461e-01, -2.49825105e-01,\n",
       "          -8.77912164e-01, -1.20379293e+00]]],\n",
       "\n",
       "\n",
       "       [[[ 5.74650824e-01,  5.19927680e-01,  1.33525338e-02,\n",
       "           7.26880908e-01,  1.87101781e+00,  5.05029023e-01,\n",
       "          -1.80877864e+00, -4.81880307e-01,  1.63638389e+00,\n",
       "          -1.00628209e+00,  2.05753118e-01,  1.04259503e+00,\n",
       "           1.42876792e+00, -8.79046097e-02,  7.13121891e-01,\n",
       "           1.76194176e-01,  5.68756938e-01,  3.65408927e-01,\n",
       "           9.25974131e-01, -2.52595246e-01,  2.50470668e-01,\n",
       "           6.11605823e-01, -1.67348313e+00,  1.08774161e+00,\n",
       "          -4.10730004e-01, -1.80065143e+00, -1.73248482e+00,\n",
       "          -1.10806376e-01,  9.28703487e-01,  7.80031681e-01,\n",
       "          -4.96013433e-01, -6.30784512e-01]],\n",
       "\n",
       "        [[-1.10695213e-02, -6.79744542e-01,  1.51525512e-01,\n",
       "           1.92221075e-01, -3.30506772e-01,  1.03433438e-01,\n",
       "          -9.01162565e-01, -1.76083112e+00, -1.20879948e+00,\n",
       "           5.13611436e-01,  1.10900021e+00,  4.46014702e-01,\n",
       "           3.08665961e-01, -9.07299280e-01,  2.33268306e-01,\n",
       "          -1.01493001e+00, -2.66801536e-01, -6.25386596e-01,\n",
       "           1.10663021e+00, -1.45989418e+00,  7.79566228e-01,\n",
       "           1.80444017e-01, -9.36406493e-01,  3.29802990e-01,\n",
       "           1.08178988e-01, -9.92516816e-01, -7.27811992e-01,\n",
       "          -2.08160579e-01,  4.69386250e-01,  5.01988947e-01,\n",
       "          -2.18320012e-01, -5.90357840e-01]],\n",
       "\n",
       "        [[-1.87829208e+00, -7.39983022e-01,  1.04741216e+00,\n",
       "          -3.38500559e-01, -3.93308938e-01,  1.70409966e+00,\n",
       "          -4.10490721e-01,  2.05761242e+00,  6.54212415e-01,\n",
       "          -1.09530807e+00, -1.85205460e-01, -6.14031553e-01,\n",
       "          -1.01472461e+00, -1.37006867e+00,  1.19699049e+00,\n",
       "           1.15092993e+00,  2.36943722e+00, -1.07615864e+00,\n",
       "          -5.33693194e-01, -2.87066817e-01, -7.40960240e-01,\n",
       "           3.43306422e-01, -5.00618458e-01,  4.19587225e-01,\n",
       "           5.20332515e-01, -2.42350173e+00,  1.33901620e-02,\n",
       "          -8.19878757e-01,  7.67881989e-01,  9.27887559e-01,\n",
       "          -3.02908421e-01,  1.10643601e+00]]]], dtype=float32)"
      ]
     },
     "execution_count": 9,
     "metadata": {},
     "output_type": "execute_result"
    }
   ],
   "source": [
    "first_layer_weights = model.layers[0].get_weights()[0]\n",
    "first_layer_biases  = model.layers[0].get_weights()[1]\n",
    "first_layer_weights"
   ]
  },
  {
   "cell_type": "code",
   "execution_count": 10,
   "metadata": {},
   "outputs": [
    {
     "name": "stdout",
     "output_type": "stream",
     "text": [
      "prediction shape: (1, 10)\n"
     ]
    },
    {
     "data": {
      "text/plain": [
       "array([[0., 0., 0., 0., 0., 1., 0., 0., 0., 0.]], dtype=float32)"
      ]
     },
     "execution_count": 10,
     "metadata": {},
     "output_type": "execute_result"
    }
   ],
   "source": [
    "prediction = model.predict(train_images[:1])\n",
    "print(\"prediction shape:\", prediction.shape)\n",
    "prediction"
   ]
  }
 ],
 "metadata": {
  "kernelspec": {
   "display_name": "Python 3",
   "language": "python",
   "name": "python3"
  },
  "language_info": {
   "codemirror_mode": {
    "name": "ipython",
    "version": 3
   },
   "file_extension": ".py",
   "mimetype": "text/x-python",
   "name": "python",
   "nbconvert_exporter": "python",
   "pygments_lexer": "ipython3",
   "version": "3.8.17"
  },
  "orig_nbformat": 4
 },
 "nbformat": 4,
 "nbformat_minor": 2
}
