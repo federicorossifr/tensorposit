{
 "cells": [
  {
   "attachments": {},
   "cell_type": "markdown",
   "metadata": {},
   "source": [
    "## Download and prepare the dataset"
   ]
  },
  {
   "attachments": {},
   "cell_type": "markdown",
   "metadata": {},
   "source": [
    "Set up the posits as default"
   ]
  },
  {
   "cell_type": "code",
   "execution_count": 21,
   "metadata": {},
   "outputs": [
    {
     "data": {
      "text/plain": [
       "'posit160'"
      ]
     },
     "execution_count": 21,
     "metadata": {},
     "output_type": "execute_result"
    }
   ],
   "source": [
    "import tensorflow.python.keras as k\n",
    "k.backend.set_floatx(\"posit160\")\n",
    "k.backend.floatx()"
   ]
  },
  {
   "cell_type": "code",
   "execution_count": 22,
   "metadata": {},
   "outputs": [
    {
     "name": "stdout",
     "output_type": "stream",
     "text": [
      "The type of the training and test set samples is a <class 'numpy.ndarray'> of <class 'numpy.float32'>\n"
     ]
    }
   ],
   "source": [
    "from tensorflow.python.keras.datasets import mnist\n",
    "from tensorflow.python.keras.utils.np_utils import to_categorical\n",
    "from tensorflow import random\n",
    "\n",
    "random.set_seed(1024)\n",
    "\n",
    "(train_images, train_labels), (test_images, test_labels) = mnist.load_data()\n",
    "\n",
    "train_images = train_images[:4000].reshape((4000, 28, 28, 1))\n",
    "train_images = train_images.astype('float32') / 255\n",
    "\n",
    "test_images = test_images[:400].reshape((400, 28, 28, 1))\n",
    "test_images = test_images.astype('float32') / 255\n",
    "\n",
    "train_labels = to_categorical(train_labels[:4000])\n",
    "test_labels = to_categorical(test_labels[:400])\n",
    "\n",
    "print(\"The type of the training and test set samples is a {0} of {1}\".format(type(train_images), type(train_images[0][0][0][0])))"
   ]
  },
  {
   "cell_type": "code",
   "execution_count": 23,
   "metadata": {},
   "outputs": [
    {
     "data": {
      "text/plain": [
       "(4000, 28, 28, 1)"
      ]
     },
     "execution_count": 23,
     "metadata": {},
     "output_type": "execute_result"
    }
   ],
   "source": [
    "train_images.shape"
   ]
  },
  {
   "attachments": {},
   "cell_type": "markdown",
   "metadata": {},
   "source": [
    "## Download and prepare the dataset"
   ]
  },
  {
   "cell_type": "code",
   "execution_count": 24,
   "metadata": {},
   "outputs": [],
   "source": [
    "from tensorflow.python.keras import layers\n",
    "from tensorflow.python.keras import models\n",
    "\n",
    "#model = models.Sequential()\n",
    "#model.add(layers.Conv2D(32, (3, 3), activation='relu', input_shape=(28, 28, 1)))\n",
    "#model.add(layers.MaxPooling2D((2, 2)))\n",
    "#model.add(layers.Conv2D(64, (3, 3), activation='relu'))\n",
    "#model.add(layers.MaxPooling2D((2, 2)))\n",
    "#model.add(layers.Conv2D(128, (3, 3), activation='relu'))\n",
    "#model.add(layers.Flatten())\n",
    "#model.add(layers.Dense(10, activation='softmax'))\n",
    "\n",
    "\n",
    "model = models.Sequential()\n",
    "model.add(layers.Flatten(input_shape=(28, 28, 1)))\n",
    "model.add(layers.Dense(128, activation='tanh'))\n",
    "model.add(layers.Dense(10, activation='softmax'))"
   ]
  },
  {
   "attachments": {},
   "cell_type": "markdown",
   "metadata": {},
   "source": [
    "Let's display the architecture of our convnet so far:"
   ]
  },
  {
   "cell_type": "code",
   "execution_count": 25,
   "metadata": {},
   "outputs": [
    {
     "name": "stdout",
     "output_type": "stream",
     "text": [
      "Model: \"sequential_2\"\n",
      "_________________________________________________________________\n",
      "Layer (type)                 Output Shape              Param #   \n",
      "=================================================================\n",
      "flatten_2 (Flatten)          (None, 784)               0         \n",
      "_________________________________________________________________\n",
      "dense_4 (Dense)              (None, 128)               100480    \n",
      "_________________________________________________________________\n",
      "dense_5 (Dense)              (None, 10)                1290      \n",
      "=================================================================\n",
      "Total params: 101,770\n",
      "Trainable params: 101,770\n",
      "Non-trainable params: 0\n",
      "_________________________________________________________________\n"
     ]
    }
   ],
   "source": [
    "model.summary()"
   ]
  },
  {
   "attachments": {},
   "cell_type": "markdown",
   "metadata": {},
   "source": [
    "We are going to do 10-way classification, so we use a final layer with 10 outputs and a softmax activation. Now here's what our network \n",
    "looks like:"
   ]
  },
  {
   "cell_type": "code",
   "execution_count": 26,
   "metadata": {},
   "outputs": [],
   "source": [
    "earlystop_callback = k.callbacks.EarlyStopping(monitor='val_accuracy',patience=6)\n",
    "\n",
    "model.compile(optimizer='adam',\n",
    "              loss=k.losses.categorical_crossentropy,\n",
    "              metrics=['accuracy'])"
   ]
  },
  {
   "cell_type": "code",
   "execution_count": 27,
   "metadata": {},
   "outputs": [
    {
     "name": "stdout",
     "output_type": "stream",
     "text": [
      "Epoch 1/50\n"
     ]
    },
    {
     "name": "stdout",
     "output_type": "stream",
     "text": [
      "29/29 [==============================] - 2s 56ms/step - loss: 2.2705 - accuracy: 0.0972 - val_loss: 2.3096 - val_accuracy: 0.0975\n",
      "Epoch 2/50\n",
      "29/29 [==============================] - 2s 60ms/step - loss: 2.2754 - accuracy: 0.1042 - val_loss: 2.2949 - val_accuracy: 0.1000\n",
      "Epoch 3/50\n",
      "29/29 [==============================] - 2s 55ms/step - loss: 2.2754 - accuracy: 0.1125 - val_loss: 2.3223 - val_accuracy: 0.0975\n",
      "Epoch 4/50\n",
      "29/29 [==============================] - 2s 56ms/step - loss: 2.2754 - accuracy: 0.1039 - val_loss: 2.3018 - val_accuracy: 0.1750\n",
      "Epoch 5/50\n",
      "29/29 [==============================] - 2s 58ms/step - loss: 2.2305 - accuracy: 0.1866 - val_loss: 2.1816 - val_accuracy: 0.2025\n",
      "Epoch 6/50\n",
      "29/29 [==============================] - 2s 58ms/step - loss: 2.0664 - accuracy: 0.2039 - val_loss: 2.0723 - val_accuracy: 0.2100\n",
      "Epoch 7/50\n",
      "29/29 [==============================] - 2s 57ms/step - loss: 2.0000 - accuracy: 0.2178 - val_loss: 2.0244 - val_accuracy: 0.1974\n",
      "Epoch 8/50\n",
      "29/29 [==============================] - 2s 60ms/step - loss: 1.9419 - accuracy: 0.2660 - val_loss: 1.9399 - val_accuracy: 0.2475\n",
      "Epoch 9/50\n",
      "29/29 [==============================] - 2s 58ms/step - loss: 1.8486 - accuracy: 0.3389 - val_loss: 1.8149 - val_accuracy: 0.3624\n",
      "Epoch 10/50\n",
      "29/29 [==============================] - 2s 60ms/step - loss: 1.7109 - accuracy: 0.4360 - val_loss: 1.6772 - val_accuracy: 0.5425\n",
      "Epoch 11/50\n",
      "29/29 [==============================] - 2s 61ms/step - loss: 1.5596 - accuracy: 0.5833 - val_loss: 1.5098 - val_accuracy: 0.6675\n",
      "Epoch 12/50\n",
      "29/29 [==============================] - 2s 63ms/step - loss: 1.3730 - accuracy: 0.6921 - val_loss: 1.3247 - val_accuracy: 0.7224\n",
      "Epoch 13/50\n",
      "29/29 [==============================] - 2s 63ms/step - loss: 1.1997 - accuracy: 0.7322 - val_loss: 1.1611 - val_accuracy: 0.7825\n",
      "Epoch 14/50\n",
      "29/29 [==============================] - 2s 65ms/step - loss: 1.0298 - accuracy: 0.8054 - val_loss: 0.9688 - val_accuracy: 0.8423\n",
      "Epoch 15/50\n",
      "29/29 [==============================] - 2s 65ms/step - loss: 0.8555 - accuracy: 0.8376 - val_loss: 0.8037 - val_accuracy: 0.8623\n",
      "Epoch 16/50\n",
      "29/29 [==============================] - 2s 75ms/step - loss: 0.6987 - accuracy: 0.8677 - val_loss: 0.6599 - val_accuracy: 0.8848\n",
      "Epoch 17/50\n",
      "29/29 [==============================] - 2s 77ms/step - loss: 0.5698 - accuracy: 0.8877 - val_loss: 0.5618 - val_accuracy: 0.8799\n",
      "Epoch 18/50\n",
      "29/29 [==============================] - 2s 79ms/step - loss: 0.4689 - accuracy: 0.9009 - val_loss: 0.4790 - val_accuracy: 0.8948\n",
      "Epoch 19/50\n",
      "29/29 [==============================] - 2s 77ms/step - loss: 0.3983 - accuracy: 0.9121 - val_loss: 0.4253 - val_accuracy: 0.8999\n",
      "Epoch 20/50\n",
      "29/29 [==============================] - 2s 79ms/step - loss: 0.3472 - accuracy: 0.9265 - val_loss: 0.3834 - val_accuracy: 0.9199\n",
      "Epoch 21/50\n",
      "29/29 [==============================] - 3s 86ms/step - loss: 0.3021 - accuracy: 0.9331 - val_loss: 0.3540 - val_accuracy: 0.9199\n",
      "Epoch 22/50\n",
      "29/29 [==============================] - 3s 98ms/step - loss: 0.2655 - accuracy: 0.9421 - val_loss: 0.3309 - val_accuracy: 0.9248\n",
      "Epoch 23/50\n",
      "29/29 [==============================] - 3s 94ms/step - loss: 0.2355 - accuracy: 0.9478 - val_loss: 0.3145 - val_accuracy: 0.9175\n",
      "Epoch 24/50\n",
      "29/29 [==============================] - 3s 95ms/step - loss: 0.2100 - accuracy: 0.9531 - val_loss: 0.2988 - val_accuracy: 0.9124\n",
      "Epoch 25/50\n",
      "29/29 [==============================] - 3s 95ms/step - loss: 0.1883 - accuracy: 0.9578 - val_loss: 0.2815 - val_accuracy: 0.9148\n",
      "Epoch 26/50\n",
      "29/29 [==============================] - 3s 93ms/step - loss: 0.1714 - accuracy: 0.9609 - val_loss: 0.2687 - val_accuracy: 0.9199\n",
      "Epoch 27/50\n",
      "29/29 [==============================] - 3s 93ms/step - loss: 0.1561 - accuracy: 0.9631 - val_loss: 0.2579 - val_accuracy: 0.9248\n",
      "Epoch 28/50\n",
      "29/29 [==============================] - 3s 92ms/step - loss: 0.1414 - accuracy: 0.9653 - val_loss: 0.2510 - val_accuracy: 0.9324\n",
      "Epoch 29/50\n",
      "29/29 [==============================] - 3s 94ms/step - loss: 0.1288 - accuracy: 0.9688 - val_loss: 0.2471 - val_accuracy: 0.9175\n",
      "Epoch 30/50\n",
      "29/29 [==============================] - 3s 94ms/step - loss: 0.1179 - accuracy: 0.9722 - val_loss: 0.2375 - val_accuracy: 0.9275\n",
      "Epoch 31/50\n",
      "29/29 [==============================] - 3s 95ms/step - loss: 0.1078 - accuracy: 0.9709 - val_loss: 0.2415 - val_accuracy: 0.9248\n",
      "Epoch 32/50\n",
      "29/29 [==============================] - 3s 98ms/step - loss: 0.0994 - accuracy: 0.9766 - val_loss: 0.2309 - val_accuracy: 0.9299\n",
      "Epoch 33/50\n",
      "29/29 [==============================] - 3s 97ms/step - loss: 0.0883 - accuracy: 0.9800 - val_loss: 0.2289 - val_accuracy: 0.9248\n",
      "Epoch 34/50\n",
      "29/29 [==============================] - 3s 102ms/step - loss: 0.0804 - accuracy: 0.9800 - val_loss: 0.2239 - val_accuracy: 0.9275\n"
     ]
    }
   ],
   "source": [
    "history = model.fit(train_images, train_labels, epochs=50, batch_size=128, validation_split=0.1,callbacks=[earlystop_callback])"
   ]
  },
  {
   "attachments": {},
   "cell_type": "markdown",
   "metadata": {},
   "source": [
    "**Results of the training phase**\n",
    "\n",
    "In the following cell we've obtained the plots of the accuracy and loss for both\n",
    "the training and validation set."
   ]
  },
  {
   "cell_type": "code",
   "execution_count": 28,
   "metadata": {},
   "outputs": [
    {
     "data": {
      "image/png": "[encoded data removed]",
      "text/plain": [
       "<Figure size 640x480 with 1 Axes>"
      ]
     },
     "metadata": {},
     "output_type": "display_data"
    },
    {
     "data": {
      "image/png": "[encoded data removed]",
      "text/plain": [
       "<Figure size 640x480 with 1 Axes>"
      ]
     },
     "metadata": {},
     "output_type": "display_data"
    }
   ],
   "source": [
    "import matplotlib.pyplot as plt\n",
    "\n",
    "acc = history.history['accuracy']\n",
    "val_acc = history.history['val_accuracy']\n",
    "loss = history.history['loss']\n",
    "val_loss = history.history['val_loss']\n",
    "\n",
    "epochs = range(len(acc))\n",
    "\n",
    "plt.plot(epochs, acc, 'r', label='Training accuracy')\n",
    "plt.plot(epochs, val_acc, 'b', label='Validation accuracy')\n",
    "plt.title('Training and validation accuracy')\n",
    "plt.legend()\n",
    "\n",
    "plt.figure()\n",
    "\n",
    "plt.plot(epochs, loss, 'r', label='Training loss')\n",
    "plt.plot(epochs, val_loss, 'b', label='Validation loss')\n",
    "plt.title('Training and validation loss')\n",
    "plt.legend()\n",
    "\n",
    "plt.show()"
   ]
  },
  {
   "attachments": {},
   "cell_type": "markdown",
   "metadata": {},
   "source": [
    "##  Evaluating the model on the test set"
   ]
  },
  {
   "cell_type": "code",
   "execution_count": 29,
   "metadata": {},
   "outputs": [
    {
     "name": "stdout",
     "output_type": "stream",
     "text": [
      "13/13 [==============================] - 0s 13ms/step - loss: 0.2345 - accuracy: 0.9199\n"
     ]
    }
   ],
   "source": [
    "test_loss, test_acc = model.evaluate(test_images, test_labels)"
   ]
  },
  {
   "cell_type": "code",
   "execution_count": 30,
   "metadata": {},
   "outputs": [
    {
     "data": {
      "text/plain": [
       "0.919922"
      ]
     },
     "execution_count": 30,
     "metadata": {},
     "output_type": "execute_result"
    }
   ],
   "source": [
    "test_acc"
   ]
  },
  {
   "cell_type": "code",
   "execution_count": 31,
   "metadata": {},
   "outputs": [
    {
     "name": "stdout",
     "output_type": "stream",
     "text": [
      "prediction shape: (1, 10)\n"
     ]
    },
    {
     "data": {
      "text/plain": [
       "array([[0.00139236, 5.96046e-05, 0.000129223, 0.0493164, 5.44786e-05,\n",
       "        0.947266, 0.000206947, 0.000580788, 0.00123405, 0.000694275]],\n",
       "      dtype=posit160)"
      ]
     },
     "execution_count": 31,
     "metadata": {},
     "output_type": "execute_result"
    }
   ],
   "source": [
    "prediction = model.predict(train_images[:1])\n",
    "print(\"prediction shape:\", prediction.shape)\n",
    "prediction"
   ]
  },
  {
   "cell_type": "code",
   "execution_count": 32,
   "metadata": {},
   "outputs": [
    {
     "data": {
      "text/plain": [
       "array([[-0.0804138, -0.0808105, -0.0809021, ..., -0.0810242, -0.0809021,\n",
       "        -0.0805054],\n",
       "       [-0.0801697, -0.079895, -0.079895, ..., -0.0800781, -0.0803528,\n",
       "        -0.0800781],\n",
       "       [-0.0804749, -0.0804138, -0.0810242, ..., -0.0804443, -0.0803528,\n",
       "        -0.080719],\n",
       "       ...,\n",
       "       [-0.0810242, -0.0808411, -0.0800476, ..., -0.0802612, -0.0801086,\n",
       "        -0.0809326],\n",
       "       [-0.0809021, -0.0802612, -0.0801392, ..., -0.0809326, -0.0803833,\n",
       "        -0.0809021],\n",
       "       [-0.0804138, -0.0798645, -0.0809937, ..., -0.0801697, -0.0802917,\n",
       "        -0.0805664]], dtype=posit160)"
      ]
     },
     "execution_count": 32,
     "metadata": {},
     "output_type": "execute_result"
    }
   ],
   "source": [
    "first_layer_weights = model.layers[1].get_weights()[0]\n",
    "first_layer_biases  = model.layers[1].get_weights()[1]\n",
    "first_layer_weights"
   ]
  }
 ],
 "metadata": {
  "kernelspec": {
   "display_name": "Python 3",
   "language": "python",
   "name": "python3"
  },
  "language_info": {
   "codemirror_mode": {
    "name": "ipython",
    "version": 3
   },
   "file_extension": ".py",
   "mimetype": "text/x-python",
   "name": "python",
   "nbconvert_exporter": "python",
   "pygments_lexer": "ipython3",
   "version": "3.8.17"
  },
  "orig_nbformat": 4
 },
 "nbformat": 4,
 "nbformat_minor": 2
}
