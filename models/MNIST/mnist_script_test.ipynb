{
 "cells": [
  {
   "cell_type": "code",
   "execution_count": 1,
   "metadata": {},
   "outputs": [
    {
     "name": "stderr",
     "output_type": "stream",
     "text": [
      "2023-06-21 11:08:08.401396: E tensorflow/core/lib/monitoring/collection_registry.cc:77] Cannot register 2 metrics with the same name: /tensorflow/core/saved_model/write/count\n",
      "2023-06-21 11:08:08.401455: E tensorflow/core/lib/monitoring/collection_registry.cc:77] Cannot register 2 metrics with the same name: /tensorflow/core/saved_model/read/count\n",
      "2023-06-21 11:08:08.401461: E tensorflow/core/lib/monitoring/collection_registry.cc:77] Cannot register 2 metrics with the same name: /tensorflow/core/saved_model/write/api\n",
      "2023-06-21 11:08:08.401463: E tensorflow/core/lib/monitoring/collection_registry.cc:77] Cannot register 2 metrics with the same name: /tensorflow/core/saved_model/read/api\n"
     ]
    }
   ],
   "source": [
    "import tensorflow.python.keras as k\n",
    "k.backend.set_floatx(\"posit160\")\n",
    "\n",
    "import pandas as pd \n",
    "import numpy as np \n",
    "from sklearn.model_selection import train_test_split\n",
    "from sklearn import neural_network\n",
    "from sklearn import  metrics\n",
    "import matplotlib.pyplot as plt"
   ]
  },
  {
   "cell_type": "code",
   "execution_count": 2,
   "metadata": {},
   "outputs": [],
   "source": [
    "def plot(history):\n",
    "  acc = history.history['accuracy']\n",
    "  loss = history.history['loss']\n",
    "  epochs = range(len(acc))\n",
    "  plt.figure()\n",
    "  plt.plot(epochs, acc, 'bo', label='Training acc')\n",
    "  plt.title('Training accuracy')\n",
    "  plt.legend()\n",
    "  #plt.savefig('ac.png')\n",
    "  plt.figure()\n",
    "  plt.plot(epochs, loss, 'bo', label='Training loss')\n",
    "  plt.title('Training loss')\n",
    "  plt.legend()\n",
    "  #plt.savefig('loss.png')\n",
    "  plt.show()"
   ]
  },
  {
   "cell_type": "code",
   "execution_count": 3,
   "metadata": {},
   "outputs": [],
   "source": [
    "train = pd.read_csv(\"/home/fabiano/cppWorkspace/examples/train-mnist.csv\")\n",
    "\n",
    "Y = train['label'][:2000] # use more number of rows for more training \n",
    "X = train.drop(['label'], axis = 1)[:2000] # use more number of rows for more training \n",
    "x_train, x_val, y_train, y_val = train_test_split(X.values, Y.values, test_size=0.10, random_state=42)\n",
    "\n",
    "# network parameters \n",
    "batch_size = 128\n",
    "num_classes = 10\n",
    "epochs = 5 # Further Fine Tuning can be done\n",
    "\n",
    "# input image dimensions\n",
    "img_rows, img_cols = 28, 28\n",
    "\n",
    "# preprocess the train data \n",
    "x_train = x_train.reshape(x_train.shape[0], img_rows, img_cols, 1)\n",
    "x_train = x_train.astype('float32')\n",
    "x_train /= 255\n",
    "\n",
    "# preprocess the validation data\n",
    "x_val = x_val.reshape(x_val.shape[0], img_rows, img_cols, 1)\n",
    "x_val = x_val.astype('float32')\n",
    "x_val /= 255\n",
    "\n",
    "input_shape = (img_rows, img_cols, 1)\n",
    "\n",
    "# convert the target variable \n",
    "y_train = k.utils.np_utils.to_categorical(y_train, num_classes)\n",
    "y_val = k.utils.np_utils.to_categorical(y_val, num_classes)"
   ]
  },
  {
   "cell_type": "code",
   "execution_count": 4,
   "metadata": {},
   "outputs": [
    {
     "name": "stderr",
     "output_type": "stream",
     "text": [
      "2023-06-21 11:08:19.794571: I tensorflow/core/platform/cpu_feature_guard.cc:142] This TensorFlow binary is optimized with oneAPI Deep Neural Network Library (oneDNN) to use the following CPU instructions in performance-critical operations:  SSE3 SSE4.1 SSE4.2 AVX AVX2 FMA\n",
      "To enable them in other operations, rebuild TensorFlow with the appropriate compiler flags.\n"
     ]
    }
   ],
   "source": [
    "model = k.models.Sequential()\n",
    "#model.add(k.layers.Conv2D(16, kernel_size=(3, 3), activation='tanh', input_shape=input_shape))\n",
    "model.add(k.layers.Flatten(input_shape=input_shape))\n",
    "model.add(k.layers.Dense(128, activation='tanh'))\n",
    "#model.add(k.layers.BatchNormalization())\n",
    "#model.add(k.layers.Dropout(0.05))\n",
    "model.add(k.layers.Dense(num_classes, activation='softmax'))\n",
    "\n",
    "model.compile(loss=k.losses.categorical_crossentropy,  optimizer='adam', metrics=['accuracy'])\n",
    "\n",
    "earlystop_callback = k.callbacks.EarlyStopping(monitor='val_accuracy',patience=25)"
   ]
  },
  {
   "cell_type": "code",
   "execution_count": 5,
   "metadata": {},
   "outputs": [
    {
     "name": "stderr",
     "output_type": "stream",
     "text": [
      "2023-06-21 11:08:19.986849: I tensorflow/compiler/mlir/mlir_graph_optimization_pass.cc:164] None of the MLIR Optimization Passes are enabled (registered 2)\n"
     ]
    },
    {
     "name": "stdout",
     "output_type": "stream",
     "text": [
      "Epoch 1/50\n",
      "15/15 [==============================] - 1s 74ms/step - loss: 2.2930 - accuracy: 0.1133 - val_loss: 2.3125 - val_accuracy: 0.0750\n",
      "Epoch 2/50\n",
      "15/15 [==============================] - 1s 66ms/step - loss: 2.2930 - accuracy: 0.1028 - val_loss: 2.3193 - val_accuracy: 0.0750\n",
      "Epoch 3/50\n",
      "15/15 [==============================] - 1s 60ms/step - loss: 2.3018 - accuracy: 0.1033 - val_loss: 2.2920 - val_accuracy: 0.0950\n",
      "Epoch 4/50\n",
      "15/15 [==============================] - 1s 58ms/step - loss: 2.2930 - accuracy: 0.0911 - val_loss: 2.3174 - val_accuracy: 0.0750\n",
      "Epoch 5/50\n",
      "15/15 [==============================] - 1s 59ms/step - loss: 2.3105 - accuracy: 0.1111 - val_loss: 2.3096 - val_accuracy: 0.1349\n",
      "Epoch 6/50\n",
      "15/15 [==============================] - 1s 67ms/step - loss: 2.3018 - accuracy: 0.0994 - val_loss: 2.2969 - val_accuracy: 0.1000\n",
      "Epoch 7/50\n",
      "15/15 [==============================] - 1s 87ms/step - loss: 2.2930 - accuracy: 0.1472 - val_loss: 2.2998 - val_accuracy: 0.2100\n",
      "Epoch 8/50\n",
      "15/15 [==============================] - 1s 86ms/step - loss: 2.2441 - accuracy: 0.2005 - val_loss: 2.1318 - val_accuracy: 0.2250\n",
      "Epoch 9/50\n",
      "15/15 [==============================] - 1s 94ms/step - loss: 2.1133 - accuracy: 0.1949 - val_loss: 2.0098 - val_accuracy: 0.2400\n",
      "Epoch 10/50\n",
      "15/15 [==============================] - 1s 96ms/step - loss: 2.0508 - accuracy: 0.1938 - val_loss: 1.9546 - val_accuracy: 0.2400\n",
      "Epoch 11/50\n",
      "15/15 [==============================] - 1s 92ms/step - loss: 2.0020 - accuracy: 0.2061 - val_loss: 1.9175 - val_accuracy: 0.2500\n",
      "Epoch 12/50\n",
      "15/15 [==============================] - 1s 85ms/step - loss: 1.9600 - accuracy: 0.2511 - val_loss: 1.8696 - val_accuracy: 0.3300\n",
      "Epoch 13/50\n",
      "15/15 [==============================] - 1s 84ms/step - loss: 1.8843 - accuracy: 0.3156 - val_loss: 1.8047 - val_accuracy: 0.3750\n",
      "Epoch 14/50\n",
      "15/15 [==============================] - 1s 86ms/step - loss: 1.7930 - accuracy: 0.3750 - val_loss: 1.7148 - val_accuracy: 0.4449\n",
      "Epoch 15/50\n",
      "15/15 [==============================] - 1s 83ms/step - loss: 1.6885 - accuracy: 0.4988 - val_loss: 1.6323 - val_accuracy: 0.5049\n",
      "Epoch 16/50\n",
      "15/15 [==============================] - 1s 86ms/step - loss: 1.5840 - accuracy: 0.5088 - val_loss: 1.5396 - val_accuracy: 0.4900\n",
      "Epoch 17/50\n",
      "15/15 [==============================] - 1s 86ms/step - loss: 1.4775 - accuracy: 0.5798 - val_loss: 1.4448 - val_accuracy: 0.5950\n",
      "Epoch 18/50\n",
      "15/15 [==============================] - 1s 85ms/step - loss: 1.3730 - accuracy: 0.6199 - val_loss: 1.3574 - val_accuracy: 0.5750\n",
      "Epoch 19/50\n",
      "15/15 [==============================] - 1s 84ms/step - loss: 1.2710 - accuracy: 0.7209 - val_loss: 1.2666 - val_accuracy: 0.7148\n",
      "Epoch 20/50\n",
      "15/15 [==============================] - 1s 88ms/step - loss: 1.1665 - accuracy: 0.7754 - val_loss: 1.1924 - val_accuracy: 0.7349\n",
      "Epoch 21/50\n",
      "15/15 [==============================] - 1s 100ms/step - loss: 1.0732 - accuracy: 0.8267 - val_loss: 1.1035 - val_accuracy: 0.7849\n",
      "Epoch 22/50\n",
      "15/15 [==============================] - 2s 110ms/step - loss: 0.9653 - accuracy: 0.8477 - val_loss: 1.0205 - val_accuracy: 0.7798\n",
      "Epoch 23/50\n",
      "15/15 [==============================] - 2s 101ms/step - loss: 0.8699 - accuracy: 0.8521 - val_loss: 0.9443 - val_accuracy: 0.7849\n",
      "Epoch 24/50\n",
      "15/15 [==============================] - 1s 90ms/step - loss: 0.7732 - accuracy: 0.8811 - val_loss: 0.8635 - val_accuracy: 0.7898\n",
      "Epoch 25/50\n",
      "15/15 [==============================] - 1s 97ms/step - loss: 0.6899 - accuracy: 0.8887 - val_loss: 0.7961 - val_accuracy: 0.8049\n",
      "Epoch 26/50\n",
      "15/15 [==============================] - 2s 102ms/step - loss: 0.6077 - accuracy: 0.8955 - val_loss: 0.7349 - val_accuracy: 0.8350\n",
      "Epoch 27/50\n",
      "15/15 [==============================] - 1s 93ms/step - loss: 0.5415 - accuracy: 0.9087 - val_loss: 0.6787 - val_accuracy: 0.8298\n",
      "Epoch 28/50\n",
      "15/15 [==============================] - 1s 97ms/step - loss: 0.4833 - accuracy: 0.9187 - val_loss: 0.6301 - val_accuracy: 0.8550\n",
      "Epoch 29/50\n",
      "15/15 [==============================] - 1s 94ms/step - loss: 0.4310 - accuracy: 0.9243 - val_loss: 0.6035 - val_accuracy: 0.8550\n",
      "Epoch 30/50\n",
      "15/15 [==============================] - 1s 95ms/step - loss: 0.3888 - accuracy: 0.9321 - val_loss: 0.5686 - val_accuracy: 0.8499\n",
      "Epoch 31/50\n",
      "15/15 [==============================] - 2s 101ms/step - loss: 0.3539 - accuracy: 0.9331 - val_loss: 0.5549 - val_accuracy: 0.8450\n",
      "Epoch 32/50\n",
      "15/15 [==============================] - 1s 95ms/step - loss: 0.3232 - accuracy: 0.9399 - val_loss: 0.5254 - val_accuracy: 0.8450\n",
      "Epoch 33/50\n",
      "15/15 [==============================] - 1s 96ms/step - loss: 0.2977 - accuracy: 0.9431 - val_loss: 0.5103 - val_accuracy: 0.8599\n",
      "Epoch 34/50\n",
      "15/15 [==============================] - 1s 100ms/step - loss: 0.2740 - accuracy: 0.9509 - val_loss: 0.4928 - val_accuracy: 0.8650\n",
      "Epoch 35/50\n",
      "15/15 [==============================] - 1s 96ms/step - loss: 0.2531 - accuracy: 0.9500 - val_loss: 0.4858 - val_accuracy: 0.8650\n",
      "Epoch 36/50\n",
      "15/15 [==============================] - 1s 98ms/step - loss: 0.2344 - accuracy: 0.9587 - val_loss: 0.4718 - val_accuracy: 0.8650\n",
      "Epoch 37/50\n",
      "15/15 [==============================] - 1s 96ms/step - loss: 0.2191 - accuracy: 0.9565 - val_loss: 0.4694 - val_accuracy: 0.8650\n",
      "Epoch 38/50\n",
      "15/15 [==============================] - 1s 97ms/step - loss: 0.1997 - accuracy: 0.9622 - val_loss: 0.4509 - val_accuracy: 0.8799\n",
      "Epoch 39/50\n",
      "15/15 [==============================] - 2s 102ms/step - loss: 0.1894 - accuracy: 0.9587 - val_loss: 0.4512 - val_accuracy: 0.8799\n",
      "Epoch 40/50\n",
      "15/15 [==============================] - 1s 98ms/step - loss: 0.1758 - accuracy: 0.9666 - val_loss: 0.4418 - val_accuracy: 0.8799\n",
      "Epoch 41/50\n",
      "15/15 [==============================] - 2s 102ms/step - loss: 0.1614 - accuracy: 0.9653 - val_loss: 0.4459 - val_accuracy: 0.8848\n",
      "Epoch 42/50\n",
      "15/15 [==============================] - 2s 101ms/step - loss: 0.1522 - accuracy: 0.9678 - val_loss: 0.4440 - val_accuracy: 0.8750\n",
      "Epoch 43/50\n",
      "15/15 [==============================] - 1s 97ms/step - loss: 0.1412 - accuracy: 0.9722 - val_loss: 0.4424 - val_accuracy: 0.8799\n",
      "Epoch 44/50\n",
      "15/15 [==============================] - 2s 102ms/step - loss: 0.1311 - accuracy: 0.9731 - val_loss: 0.4415 - val_accuracy: 0.8799\n",
      "Epoch 45/50\n",
      "15/15 [==============================] - 2s 101ms/step - loss: 0.1214 - accuracy: 0.9753 - val_loss: 0.4403 - val_accuracy: 0.8750\n",
      "Epoch 46/50\n",
      "15/15 [==============================] - 2s 100ms/step - loss: 0.1143 - accuracy: 0.9766 - val_loss: 0.4437 - val_accuracy: 0.8799\n",
      "Epoch 47/50\n",
      "15/15 [==============================] - 2s 103ms/step - loss: 0.1064 - accuracy: 0.9788 - val_loss: 0.4355 - val_accuracy: 0.8750\n",
      "Epoch 48/50\n",
      "15/15 [==============================] - 2s 103ms/step - loss: 0.0999 - accuracy: 0.9832 - val_loss: 0.4440 - val_accuracy: 0.8750\n",
      "Epoch 49/50\n",
      "15/15 [==============================] - 2s 114ms/step - loss: 0.0944 - accuracy: 0.9832 - val_loss: 0.4415 - val_accuracy: 0.8650\n",
      "Epoch 50/50\n",
      "15/15 [==============================] - 2s 109ms/step - loss: 0.0869 - accuracy: 0.9866 - val_loss: 0.4515 - val_accuracy: 0.8699\n"
     ]
    }
   ],
   "source": [
    "history = model.fit(x_train, y_train, batch_size=batch_size, epochs=50, verbose=1, validation_data=(x_val, y_val), callbacks=earlystop_callback)"
   ]
  },
  {
   "cell_type": "code",
   "execution_count": 6,
   "metadata": {},
   "outputs": [
    {
     "name": "stdout",
     "output_type": "stream",
     "text": [
      "prediction shape: (1, 10)\n"
     ]
    },
    {
     "data": {
      "text/plain": [
       "array([[0.00276566, 5.14984e-05, 0.00258636, 0.979736, 9.39369e-05,\n",
       "        0.00912476, 0.000198841, 0.00166893, 0.00370407, 0.00112343]],\n",
       "      dtype=posit160)"
      ]
     },
     "execution_count": 6,
     "metadata": {},
     "output_type": "execute_result"
    }
   ],
   "source": [
    "prediction = model.predict(x_train[:1])\n",
    "print(\"prediction shape:\", prediction.shape)\n",
    "prediction"
   ]
  },
  {
   "cell_type": "code",
   "execution_count": 7,
   "metadata": {},
   "outputs": [
    {
     "data": {
      "text/plain": [
       "array([[-0.0801697, -0.0809021, -0.0800171, ..., -0.0805664, -0.0803528,\n",
       "        -0.0799866],\n",
       "       [-0.080719, -0.0809631, -0.0808105, ..., -0.0802307, -0.0801086,\n",
       "        -0.0805359],\n",
       "       [-0.0810242, -0.0802917, -0.0805664, ..., -0.0801697, -0.080658,\n",
       "        -0.0808716],\n",
       "       ...,\n",
       "       [-0.0809326, -0.0803528, -0.08078, ..., -0.0810547, -0.0805969,\n",
       "        -0.0801086],\n",
       "       [-0.0809631, -0.0807495, -0.0809631, ..., -0.0803223, -0.0800781,\n",
       "        -0.0806885],\n",
       "       [-0.0808105, -0.0803833, -0.0800171, ..., -0.0804138, -0.0805359,\n",
       "        -0.0809631]], dtype=posit160)"
      ]
     },
     "execution_count": 7,
     "metadata": {},
     "output_type": "execute_result"
    }
   ],
   "source": [
    "first_layer_weights = model.layers[1].get_weights()[0]\n",
    "first_layer_biases  = model.layers[1].get_weights()[1]\n",
    "first_layer_weights"
   ]
  }
 ],
 "metadata": {
  "kernelspec": {
   "display_name": "Python 3",
   "language": "python",
   "name": "python3"
  },
  "language_info": {
   "codemirror_mode": {
    "name": "ipython",
    "version": 3
   },
   "file_extension": ".py",
   "mimetype": "text/x-python",
   "name": "python",
   "nbconvert_exporter": "python",
   "pygments_lexer": "ipython3",
   "version": "3.8.17"
  },
  "orig_nbformat": 4
 },
 "nbformat": 4,
 "nbformat_minor": 2
}
