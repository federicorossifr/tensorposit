{
 "cells": [
  {
   "attachments": {},
   "cell_type": "markdown",
   "metadata": {},
   "source": [
    "## Download and prepare the dataset"
   ]
  },
  {
   "attachments": {},
   "cell_type": "markdown",
   "metadata": {},
   "source": [
    "Set up the posits as default"
   ]
  },
  {
   "cell_type": "code",
   "execution_count": 99,
   "metadata": {},
   "outputs": [
    {
     "data": {
      "text/plain": [
       "'posit160'"
      ]
     },
     "execution_count": 99,
     "metadata": {},
     "output_type": "execute_result"
    }
   ],
   "source": [
    "import tensorflow.python.keras as k\n",
    "k.backend.set_floatx(\"posit160\")\n",
    "k.backend.floatx()"
   ]
  },
  {
   "cell_type": "code",
   "execution_count": 100,
   "metadata": {},
   "outputs": [
    {
     "name": "stdout",
     "output_type": "stream",
     "text": [
      "The type of the training and test set samples is a <class 'numpy.ndarray'> of <class 'numpy.float32'>\n"
     ]
    }
   ],
   "source": [
    "from tensorflow.python.keras.datasets import mnist\n",
    "from tensorflow.python.keras.utils.np_utils import to_categorical\n",
    "from tensorflow import random\n",
    "\n",
    "random.set_seed(1024)\n",
    "\n",
    "def random_normal_init(shape, dtype=None):\n",
    "    return random.normal(shape, dtype=\"posit160\")\n",
    "\n",
    "(train_images, train_labels), (test_images, test_labels) = mnist.load_data()\n",
    "\n",
    "train_images = train_images[:2000].reshape((2000, 28, 28, 1))\n",
    "train_images = train_images.astype('float32') / 255\n",
    "\n",
    "test_images = test_images.reshape((10000, 28, 28, 1))\n",
    "test_images = test_images.astype('float32') / 255\n",
    "\n",
    "train_labels = to_categorical(train_labels[:2000])\n",
    "test_labels = to_categorical(test_labels)\n",
    "\n",
    "print(\"The type of the training and test set samples is a {0} of {1}\".format(type(train_images), type(train_images[0][0][0][0])))"
   ]
  },
  {
   "cell_type": "code",
   "execution_count": 101,
   "metadata": {},
   "outputs": [
    {
     "data": {
      "text/plain": [
       "(2000, 28, 28, 1)"
      ]
     },
     "execution_count": 101,
     "metadata": {},
     "output_type": "execute_result"
    }
   ],
   "source": [
    "train_images.shape"
   ]
  },
  {
   "attachments": {},
   "cell_type": "markdown",
   "metadata": {},
   "source": [
    "## Download and prepare the dataset"
   ]
  },
  {
   "cell_type": "code",
   "execution_count": 102,
   "metadata": {},
   "outputs": [],
   "source": [
    "from tensorflow.python.keras import layers\n",
    "from tensorflow.python.keras import models\n",
    "\n",
    "#model = models.Sequential()\n",
    "#model.add(layers.Conv2D(32, (3, 3), activation='relu', input_shape=(28, 28, 1)))\n",
    "#model.add(layers.MaxPooling2D((2, 2)))\n",
    "#model.add(layers.Conv2D(64, (3, 3), activation='relu'))\n",
    "#model.add(layers.MaxPooling2D((2, 2)))\n",
    "#model.add(layers.Conv2D(128, (3, 3), activation='relu'))\n",
    "#model.add(layers.Flatten())\n",
    "#model.add(layers.Dense(10, activation='softmax'))\n",
    "\n",
    "# model = models.Sequential()\n",
    "# model.add(layers.Conv2D(32, (3, 3), activation='tanh', input_shape=(28, 28, 1), kernel_initializer=random_normal_init))\n",
    "# model.add(layers.MaxPooling2D((2, 2),input_shape=(28, 28, 1)))\n",
    "# model.add(layers.Flatten(input_shape=(28, 28, 1)))\n",
    "# model.add(layers.Dense(128, activation=\"tanh\", kernel_initializer=random_normal_init))\n",
    "# model.add(layers.Dense(10, activation='softmax',kernel_initializer=random_normal_init))\n",
    "\n",
    "# model = models.Sequential()\n",
    "# model.add(layers.Conv2D(32, (3, 3), activation='tanh', input_shape=(28, 28, 1)))\n",
    "# model.add(layers.MaxPooling2D((2, 2),input_shape=(28, 28, 1)))\n",
    "# model.add(layers.Flatten(input_shape=(28, 28, 1)))\n",
    "# model.add(layers.Dense(128, activation=\"tanh\"))\n",
    "# model.add(layers.Dense(10, activation='softmax'))\n",
    "\n",
    "model = models.Sequential()\n",
    "model.add(layers.Conv2D(1, (3, 3), activation='relu', input_shape=(28, 28, 1), kernel_initializer=random_normal_init))\n",
    "model.add(layers.MaxPooling2D((2, 2)))\n",
    "model.add(layers.Conv2D(1, (3, 3), activation='relu', kernel_initializer=random_normal_init))\n",
    "model.add(layers.Dropout(0.3))\n",
    "model.add(layers.MaxPooling2D((2, 2)))\n",
    "model.add(layers.Conv2D(1, (3, 3), activation='relu', kernel_initializer=random_normal_init))\n",
    "model.add(layers.MaxPooling2D((2, 2)))\n",
    "model.add(layers.Flatten())\n",
    "model.add(layers.Dense(10, activation='softmax',kernel_initializer=random_normal_init))\n"
   ]
  },
  {
   "attachments": {},
   "cell_type": "markdown",
   "metadata": {},
   "source": [
    "Let's display the architecture of our convnet so far:"
   ]
  },
  {
   "cell_type": "code",
   "execution_count": 103,
   "metadata": {},
   "outputs": [
    {
     "name": "stdout",
     "output_type": "stream",
     "text": [
      "Model: \"sequential_7\"\n",
      "_________________________________________________________________\n",
      "Layer (type)                 Output Shape              Param #   \n",
      "=================================================================\n",
      "conv2d_17 (Conv2D)           (None, 26, 26, 1)         10        \n",
      "_________________________________________________________________\n",
      "max_pooling2d_14 (MaxPooling (None, 13, 13, 1)         0         \n",
      "_________________________________________________________________\n",
      "conv2d_18 (Conv2D)           (None, 11, 11, 1)         10        \n",
      "_________________________________________________________________\n",
      "dropout_4 (Dropout)          (None, 11, 11, 1)         0         \n",
      "_________________________________________________________________\n",
      "max_pooling2d_15 (MaxPooling (None, 5, 5, 1)           0         \n",
      "_________________________________________________________________\n",
      "conv2d_19 (Conv2D)           (None, 3, 3, 1)           10        \n",
      "_________________________________________________________________\n",
      "max_pooling2d_16 (MaxPooling (None, 1, 1, 1)           0         \n",
      "_________________________________________________________________\n",
      "flatten_4 (Flatten)          (None, 1)                 0         \n",
      "_________________________________________________________________\n",
      "dense_4 (Dense)              (None, 10)                20        \n",
      "=================================================================\n",
      "Total params: 50\n",
      "Trainable params: 50\n",
      "Non-trainable params: 0\n",
      "_________________________________________________________________\n"
     ]
    }
   ],
   "source": [
    "model.summary()"
   ]
  },
  {
   "attachments": {},
   "cell_type": "markdown",
   "metadata": {},
   "source": [
    "We are going to do 10-way classification, so we use a final layer with 10 outputs and a softmax activation. Now here's what our network \n",
    "looks like:"
   ]
  },
  {
   "cell_type": "code",
   "execution_count": 104,
   "metadata": {},
   "outputs": [],
   "source": [
    "optimizer = k.optimizers.adam_v2.Adam(learning_rate=1e-4)\n",
    "\n",
    "model.compile(optimizer=optimizer,\n",
    "              loss=k.losses.categorical_crossentropy,\n",
    "              metrics=['accuracy'])"
   ]
  },
  {
   "cell_type": "code",
   "execution_count": 105,
   "metadata": {},
   "outputs": [],
   "source": [
    "weights_before = model.get_weights()"
   ]
  },
  {
   "cell_type": "code",
   "execution_count": 106,
   "metadata": {},
   "outputs": [
    {
     "name": "stdout",
     "output_type": "stream",
     "text": [
      "Epoch 1/50\n"
     ]
    },
    {
     "name": "stdout",
     "output_type": "stream",
     "text": [
      "15/15 [==============================] - 1s 27ms/step - loss: 2.2822 - accuracy: 0.1076 - val_loss: 4.9941 - val_accuracy: 0.1050\n",
      "Epoch 2/50\n",
      "15/15 [==============================] - 0s 23ms/step - loss: 2.2822 - accuracy: 0.1131 - val_loss: 4.9941 - val_accuracy: 0.1050\n",
      "Epoch 3/50\n",
      "15/15 [==============================] - 0s 21ms/step - loss: 2.2822 - accuracy: 0.1131 - val_loss: 4.9941 - val_accuracy: 0.1050\n",
      "Epoch 4/50\n",
      "15/15 [==============================] - 0s 21ms/step - loss: 2.2822 - accuracy: 0.1131 - val_loss: 4.9941 - val_accuracy: 0.1050\n",
      "Epoch 5/50\n",
      "15/15 [==============================] - 0s 22ms/step - loss: 2.2822 - accuracy: 0.1131 - val_loss: 4.9941 - val_accuracy: 0.1050\n",
      "Epoch 6/50\n",
      "15/15 [==============================] - 0s 22ms/step - loss: 2.2822 - accuracy: 0.1131 - val_loss: 4.9941 - val_accuracy: 0.1050\n"
     ]
    }
   ],
   "source": [
    "earlystop_callback = k.callbacks.EarlyStopping(monitor='val_accuracy',patience=5)\n",
    "\n",
    "history = model.fit(train_images, train_labels, epochs=50, batch_size=125, validation_split=0.1, callbacks=[earlystop_callback])"
   ]
  },
  {
   "cell_type": "code",
   "execution_count": 107,
   "metadata": {},
   "outputs": [],
   "source": [
    "weights_after = model.get_weights()"
   ]
  },
  {
   "cell_type": "code",
   "execution_count": 108,
   "metadata": {},
   "outputs": [
    {
     "name": "stdout",
     "output_type": "stream",
     "text": [
      "True\n",
      "[[[[0.614258]]\n",
      "\n",
      "  [[1.66406]]\n",
      "\n",
      "  [[1.53076]]]\n",
      "\n",
      "\n",
      " [[[-0.784668]]\n",
      "\n",
      "  [[0.142151]]\n",
      "\n",
      "  [[1.05859]]]\n",
      "\n",
      "\n",
      " [[[1.01807]]\n",
      "\n",
      "  [[1.09521]]\n",
      "\n",
      "  [[1.8877]]]]\n",
      "==============================\n",
      "[[[[0.614258]]\n",
      "\n",
      "  [[1.66406]]\n",
      "\n",
      "  [[1.53076]]]\n",
      "\n",
      "\n",
      " [[[-0.784668]]\n",
      "\n",
      "  [[0.142151]]\n",
      "\n",
      "  [[1.05859]]]\n",
      "\n",
      "\n",
      " [[[1.01807]]\n",
      "\n",
      "  [[1.09521]]\n",
      "\n",
      "  [[1.8877]]]]\n"
     ]
    }
   ],
   "source": [
    "import numpy as np\n",
    "\n",
    "print(np.array_equal(weights_before[0],weights_after[0]))\n",
    "\n",
    "\n",
    "print(weights_before[0])\n",
    "print(\"==============================\")\n",
    "print(weights_after[0])"
   ]
  },
  {
   "attachments": {},
   "cell_type": "markdown",
   "metadata": {},
   "source": [
    "**Results of the training phase**\n",
    "\n",
    "In the following cell we've obtained the plots of the accuracy and loss for both\n",
    "the training and validation set."
   ]
  },
  {
   "cell_type": "code",
   "execution_count": 109,
   "metadata": {},
   "outputs": [
    {
     "data": {
      "image/png": "[encoded data removed]",
      "text/plain": [
       "<Figure size 640x480 with 1 Axes>"
      ]
     },
     "metadata": {},
     "output_type": "display_data"
    },
    {
     "data": {
      "image/png": "[encoded data removed]",
      "text/plain": [
       "<Figure size 640x480 with 1 Axes>"
      ]
     },
     "metadata": {},
     "output_type": "display_data"
    }
   ],
   "source": [
    "import matplotlib.pyplot as plt\n",
    "\n",
    "acc = history.history['accuracy']\n",
    "val_acc = history.history['val_accuracy']\n",
    "loss = history.history['loss']\n",
    "val_loss = history.history['val_loss']\n",
    "\n",
    "epochs = range(len(acc))\n",
    "\n",
    "plt.plot(epochs, acc, 'r', label='Training accuracy')\n",
    "plt.plot(epochs, val_acc, 'b', label='Validation accuracy')\n",
    "plt.title('Training and validation accuracy')\n",
    "plt.legend()\n",
    "\n",
    "plt.figure()\n",
    "\n",
    "plt.plot(epochs, loss, 'r', label='Training loss')\n",
    "plt.plot(epochs, val_loss, 'b', label='Validation loss')\n",
    "plt.title('Training and validation loss')\n",
    "plt.legend()\n",
    "\n",
    "plt.show()"
   ]
  },
  {
   "attachments": {},
   "cell_type": "markdown",
   "metadata": {},
   "source": [
    "##  Evaluating the model on the test set"
   ]
  },
  {
   "cell_type": "code",
   "execution_count": 110,
   "metadata": {},
   "outputs": [
    {
     "name": "stdout",
     "output_type": "stream",
     "text": [
      "  1/313 [..............................] - ETA: 4s - loss: 4.8438 - accuracy: 0.0938"
     ]
    },
    {
     "name": "stdout",
     "output_type": "stream",
     "text": [
      "313/313 [==============================] - 1s 5ms/step - loss: 4.1777 - accuracy: 0.1028\n"
     ]
    }
   ],
   "source": [
    "test_loss, test_acc = model.evaluate(test_images, test_labels)"
   ]
  },
  {
   "cell_type": "code",
   "execution_count": 111,
   "metadata": {},
   "outputs": [
    {
     "data": {
      "text/plain": [
       "0.102753"
      ]
     },
     "execution_count": 111,
     "metadata": {},
     "output_type": "execute_result"
    }
   ],
   "source": [
    "test_acc"
   ]
  },
  {
   "cell_type": "code",
   "execution_count": 112,
   "metadata": {},
   "outputs": [
    {
     "name": "stdout",
     "output_type": "stream",
     "text": [
      "prediction shape: (1, 10)\n"
     ]
    },
    {
     "data": {
      "text/plain": [
       "array([[0.195312, 0.00199127, 0.000546455, 0.00115013, 0.00724411,\n",
       "        0.000569344, 0.0299225, 0.739502, 0.0186157, 0.00547791]],\n",
       "      dtype=posit160)"
      ]
     },
     "execution_count": 112,
     "metadata": {},
     "output_type": "execute_result"
    }
   ],
   "source": [
    "prediction = model.predict(train_images[:1])\n",
    "print(\"prediction shape:\", prediction.shape)\n",
    "prediction"
   ]
  },
  {
   "cell_type": "code",
   "execution_count": 113,
   "metadata": {},
   "outputs": [
    {
     "name": "stdout",
     "output_type": "stream",
     "text": [
      "tf.Tensor(\n",
      "[-0.251343 1.73291 -0.348267 -0.491699 -1.03027 0.650146 -1.11084 -1.27588\n",
      " -0.841064 -2.08203], shape=(10,), dtype=posit160)\n"
     ]
    }
   ],
   "source": [
    "print(random_normal_init((10,)))\n"
   ]
  },
  {
   "cell_type": "code",
   "execution_count": 114,
   "metadata": {},
   "outputs": [
    {
     "name": "stdout",
     "output_type": "stream",
     "text": [
      "tf.Tensor(\n",
      "[-0.546143 -0.544922 -0.545654 -0.539062 -0.545166 -0.541016 -0.544434\n",
      " -0.542236 -0.54248 -0.544678], shape=(10,), dtype=posit160)\n"
     ]
    }
   ],
   "source": [
    "initializer = k.initializers.GlorotUniform()\n",
    "values = initializer(shape=(10,), dtype=\"posit160\")\n",
    "print(values)"
   ]
  }
 ],
 "metadata": {
  "kernelspec": {
   "display_name": "Python 3",
   "language": "python",
   "name": "python3"
  },
  "language_info": {
   "codemirror_mode": {
    "name": "ipython",
    "version": 3
   },
   "file_extension": ".py",
   "mimetype": "text/x-python",
   "name": "python",
   "nbconvert_exporter": "python",
   "pygments_lexer": "ipython3",
   "version": "3.8.17"
  },
  "orig_nbformat": 4
 },
 "nbformat": 4,
 "nbformat_minor": 2
}
